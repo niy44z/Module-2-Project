{
  "nbformat": 4,
  "nbformat_minor": 0,
  "metadata": {
    "colab": {
      "private_outputs": true,
      "provenance": [],
      "collapsed_sections": [
        "FJNUwmbgGyua",
        "mDgbUHAGgjLW",
        "Y3lxredqlCYt",
        "3RnN4peoiCZX",
        "x71ZqKXriCWQ",
        "JlHwYmJAmNHm",
        "35m5QtbWiB9F",
        "PoPl-ycgm1ru",
        "H0kj-8xxnORC",
        "nA9Y7ga8ng1Z",
        "PBTbrJXOngz2",
        "u3PMJOP6ngxN",
        "bKJF3rekwFvQ",
        "K5QZ13OEpz2H",
        "fge-S5ZAYoAp",
        "85gYPyotYoAp",
        "RoGjAbkUYoAp",
        "iky9q4vBYrdO",
        "F6T5p64dYrdO",
        "y-Ehk30pYrdP",
        "QHF8YVU7Yuh3",
        "GwzvFGzlYuh3",
        "qYpmQ266Yuh3",
        "bbFf2-_FphqN",
        "_ouA3fa0phqN",
        "Seke61FWphqN",
        "b0JNsNcRphqO",
        "jj7wYXLtphqO",
        "eZrbJ2SmphqO",
        "rFu4xreNphqO",
        "gCFgpxoyphqP",
        "OVtJsKN_phqQ",
        "lssrdh5qphqQ",
        "JMzcOPDDphqR",
        "X_VqEhTip1ck",
        "8zGJKyg5p1ck",
        "PVzmfK_Ep1ck",
        "n3dbpmDWp1ck",
        "ylSl6qgtp1ck",
        "ZWILFDl5p1ck",
        "M7G43BXep1ck",
        "Ag9LCva-p1cl",
        "E6MkPsBcp1cl",
        "2cELzS2fp1cl",
        "3MPXvC8up1cl",
        "NC_X3p0fY2L0",
        "UV0SzAkaZNRQ",
        "YPEH6qLeZNRQ",
        "q29F0dvdveiT",
        "EXh0U9oCveiU",
        "22aHeOlLveiV"
      ],
      "include_colab_link": true
    },
    "kernelspec": {
      "name": "python3",
      "display_name": "Python 3"
    },
    "language_info": {
      "name": "python"
    }
  },
  "cells": [
    {
      "cell_type": "markdown",
      "metadata": {
        "id": "view-in-github",
        "colab_type": "text"
      },
      "source": [
        "<a href=\"https://colab.research.google.com/github/niy44z/Module-2-Project/blob/main/Modeule_2_fedx_Capstone_Project_.ipynb\" target=\"_parent\"><img src=\"https://colab.research.google.com/assets/colab-badge.svg\" alt=\"Open In Colab\"/></a>"
      ]
    },
    {
      "cell_type": "markdown",
      "source": [
        "# **Project Name**    -\n",
        "\n"
      ],
      "metadata": {
        "id": "vncDsAP0Gaoa"
      }
    },
    {
      "cell_type": "markdown",
      "source": [
        "##### **Project Type**    - EDA/Regression/Classification/Unsupervised\n",
        "##### **Contribution**    - Individual\n",
        "##### **Team Member -**   Niyaz Muddebihal\n",
        "##### **FedEx Logistics Performance Analysis **"
      ],
      "metadata": {
        "id": "beRrZCGUAJYm"
      }
    },
    {
      "cell_type": "markdown",
      "source": [
        "# **Project Summary -**"
      ],
      "metadata": {
        "id": "FJNUwmbgGyua"
      }
    },
    {
      "cell_type": "markdown",
      "source": [
        "The FedEx Logistic Performance Analysis aimed to evaluate and enhance the efficiency of the logistics process by examining delivery performance, freight cost management, and vendor efficiency across multiple regions. Using a comprehensive dataset, the project identified critical areas of improvement and provided actionable recommendations to optimize operations and reduce costs.\n",
        "\n",
        "Data Preparation and Cleaning\n",
        "\n",
        "The dataset encompassed key variables such as \"Country,\" \"Vendor,\" \"Is On-Time Delivery,\" \"Freight Cost (USD),\" and \"Weight (Kilograms).\" Significant data cleaning efforts included addressing missing values in the \"Weight (Kilograms)\" column, where 3,742 null entries were filled with country-specific mean weights. This approach preserved regional accuracy and ensured the integrity of subsequent analyses.\n",
        "\n",
        "##Key Analyses and Findings\n",
        "\n",
        "1. Delivery Performance:\n",
        "\n",
        "Vendor Performance:\n",
        "\n",
        "Over 70% of vendors maintained a 100% on-time delivery rate.\n",
        "\n",
        "Underperforming vendors, such as \"SCMS from RDC,\" exhibited delivery rates as low as 47.22%, impacting regional reliability.\n",
        "\n",
        "Regional Delays:\n",
        "\n",
        "Countries like Nigeria and Côte d'Ivoire faced significant delays, necessitating region-specific interventions.\n",
        "\n",
        "2. Freight Cost Efficiency:\n",
        "\n",
        "Weight Category Analysis:\n",
        "\n",
        "Shipments in the \"500-1000\" weight range were identified as the most cost-efficient, with an average freight cost of 6,771 USD.\n",
        "\n",
        "Small shipments (\"0-500\" weight range) incurred higher average costs of 8,345 USD, while shipments above 10,000 kilograms had the highest average cost at 31,652 USD.\n",
        "\n",
        "Regional Cost Analysis:\n",
        "\n",
        "Cameroon and Nigeria emerged as high-cost regions, indicating opportunities for renegotiation and operational improvements.\n",
        "\n",
        "3. Correlation Between Weight and Delays:\n",
        "\n",
        "Analysis revealed a direct correlation between shipment weight and delivery delays, with heavier shipments experiencing more frequent delays. This insight emphasized the need for improved logistics for high-weight shipments."
      ],
      "metadata": {
        "id": "F6v_1wHtG2nS"
      }
    },
    {
      "cell_type": "markdown",
      "source": [
        "# **GitHub Link -**"
      ],
      "metadata": {
        "id": "w6K7xa23Elo4"
      }
    },
    {
      "cell_type": "markdown",
      "source": [
        " GitHub Link:-"
      ],
      "metadata": {
        "id": "h1o69JH3Eqqn"
      }
    },
    {
      "cell_type": "markdown",
      "source": [
        "# **Problem Statement**\n"
      ],
      "metadata": {
        "id": "yQaldy8SH6Dl"
      }
    },
    {
      "cell_type": "markdown",
      "source": [
        "**Write Problem Statement Here.**"
      ],
      "metadata": {
        "id": "DpeJGUA3kjGy"
      }
    },
    {
      "cell_type": "markdown",
      "source": [
        "#### **Define Your Business Objective?**"
      ],
      "metadata": {
        "id": "PH-0ReGfmX4f"
      }
    },
    {
      "cell_type": "markdown",
      "source": [
        "# **Objective :-** ***FedEx Logistics Performance Analysis***\n",
        "\n",
        "\n",
        "#1: Delivery Performance Analysis#\n",
        "##Overall Delivery Performance:\n",
        "\n",
        "> Analyze on-time delivery rates across regions and shipment modes.\n",
        "Identify the percentage of deliveries delayed.\n",
        "##Delay Analysis:\n",
        "\n",
        "> Calculate average delays by:\n",
        "* Region\n",
        "* Vendor\n",
        "* Shipment Mode\n",
        "* Use heatmaps or bar charts to visualize delays.\n",
        "##Gap Analysis:\n",
        "\n",
        "> Analyze the difference between estimated delivery time and actual delivery time.\n",
        "#2: Shipment Mode Analysis#\n",
        "##Mode Comparison:\n",
        "\n",
        "> Compare performance metrics (cost, speed, delays) for air, sea, and road shipments.\n",
        "> Identify which modes are most efficient for specific regions or products.\n",
        "##Cost-Performance Trade-Off:\n",
        "\n",
        "> Correlate freight cost with delivery speed and reliability.\n",
        "#3: Vendor Performance Analysis#\n",
        "##Vendor Rankings:\n",
        "\n",
        "> Rank vendors based on on-time delivery rates and consistency.\n",
        "> Identify vendors contributing to the highest delays.\n",
        "##Vendor Analysis by Region:\n",
        "\n",
        "> Analyze which vendors perform well in specific regions and which struggle.\n",
        "#4: Regional Performance Analysis#\n",
        "##Delivery Trends by Region:\n",
        "\n",
        "> Identify regions with frequent delays and analyze contributing factors.\n",
        "> Assess the impact of local infrastructure or regulations on delivery performance.\n",
        "##Freight Costs by Region:\n",
        "\n",
        "> Compare average freight costs across regions to identify high-cost areas.\n",
        "#5: Weight and Freight Cost Analysis#\n",
        "##Impact of Weight on Delivery:\n",
        "\n",
        "> Analyze how shipment weight correlates with delays.\n",
        "> Check if heavier shipments tend to face more delays.\n",
        "##Freight Cost Efficiency:\n",
        "\n",
        "> Compare freight costs for shipments of similar weight or volume.\n",
        "> Highlight inefficiencies in cost management.\n",
        "\n",
        "#6: Time-Based Analysis#\n",
        "##Trend Analysis:\n",
        "\n",
        "> Analyze delivery performance trends over time (e.g., monthly, quarterly).\n",
        "> Identify periods with consistent delays (e.g., seasonal trends).\n",
        "##Seasonal Patterns:\n",
        "\n",
        "> Check if specific months or quarters have higher delays or costs."
      ],
      "metadata": {
        "id": "PhDvGCAqmjP1"
      }
    },
    {
      "cell_type": "markdown",
      "source": [
        "# **General Guidelines** : -  "
      ],
      "metadata": {
        "id": "mDgbUHAGgjLW"
      }
    },
    {
      "cell_type": "markdown",
      "source": [
        "1.   Well-structured, formatted, and commented code is required.\n",
        "2.   Exception Handling, Production Grade Code & Deployment Ready Code will be a plus. Those students will be awarded some additional credits.\n",
        "     \n",
        "     The additional credits will have advantages over other students during Star Student selection.\n",
        "       \n",
        "             [ Note: - Deployment Ready Code is defined as, the whole .ipynb notebook should be executable in one go\n",
        "                       without a single error logged. ]\n",
        "\n",
        "3.   Each and every logic should have proper comments.\n",
        "4. You may add as many number of charts you want. Make Sure for each and every chart the following format should be answered.\n",
        "        \n",
        "\n",
        "```\n",
        "# Chart visualization code\n",
        "```\n",
        "            \n",
        "\n",
        "*   Why did you pick the specific chart?\n",
        "*   What is/are the insight(s) found from the chart?\n",
        "* Will the gained insights help creating a positive business impact?\n",
        "Are there any insights that lead to negative growth? Justify with specific reason.\n",
        "\n",
        "5. You have to create at least 20 logical & meaningful charts having important insights.\n",
        "\n",
        "\n",
        "[ Hints : - Do the Vizualization in  a structured way while following \"UBM\" Rule.\n",
        "\n",
        "U - Univariate Analysis,\n",
        "\n",
        "B - Bivariate Analysis (Numerical - Categorical, Numerical - Numerical, Categorical - Categorical)\n",
        "\n",
        "M - Multivariate Analysis\n",
        " ]\n",
        "\n",
        "\n",
        "\n"
      ],
      "metadata": {
        "id": "ZrxVaUj-hHfC"
      }
    },
    {
      "cell_type": "markdown",
      "source": [
        "# ***Let's Begin !***"
      ],
      "metadata": {
        "id": "O_i_v8NEhb9l"
      }
    },
    {
      "cell_type": "markdown",
      "source": [
        "## ***1. Know Your Data***"
      ],
      "metadata": {
        "id": "HhfV-JJviCcP"
      }
    },
    {
      "cell_type": "markdown",
      "source": [
        "### Import Libraries"
      ],
      "metadata": {
        "id": "Y3lxredqlCYt"
      }
    },
    {
      "cell_type": "code",
      "source": [
        "# Import Libraries\n",
        "\n",
        "import pandas as pd\n",
        "import numpy as np\n",
        "import matplotlib.pyplot as plt\n",
        "import seaborn as sns\n",
        "import plotly.express as px                      # importing plotly for --> Interactive plots\n",
        "import plotly.figure_factory as ff               # importing figure_factory for --> Heatmap\n",
        "import plotly.graph_objects as go                # importing graph_object for --> Gauge chart\n",
        "import warnings\n",
        "warnings.filterwarnings('ignore')\n",
        "from plotly.subplots import make_subplots        # importing subplots for --> generating Subplots\n",
        "from datetime import datetime                    # importing datetime for --> Datetime\n",
        "\n",
        "display(pd.options.display.max_columns)\n",
        "pd.options.display.max_columns = None"
      ],
      "metadata": {
        "id": "M8Vqi-pPk-HR"
      },
      "execution_count": null,
      "outputs": []
    },
    {
      "cell_type": "code",
      "source": [
        "from google.colab import drive\n",
        "drive.mount('/content/drive')"
      ],
      "metadata": {
        "id": "v3EZUb2LYB-F"
      },
      "execution_count": null,
      "outputs": []
    },
    {
      "cell_type": "markdown",
      "source": [
        "### Dataset Loading"
      ],
      "metadata": {
        "id": "3RnN4peoiCZX"
      }
    },
    {
      "cell_type": "code",
      "source": [
        "# Load Dataset\n",
        "\n",
        "from google.colab import drive\n",
        "drive.mount('/content/drive')\n",
        "\n",
        "FedEx_data = pd.read_csv('/content/drive/MyDrive/SCMS_Delivery_History_Dataset.csv')"
      ],
      "metadata": {
        "id": "4CkvbW_SlZ_R"
      },
      "execution_count": null,
      "outputs": []
    },
    {
      "cell_type": "markdown",
      "source": [
        "### Dataset First View"
      ],
      "metadata": {
        "id": "x71ZqKXriCWQ"
      }
    },
    {
      "cell_type": "code",
      "source": [
        "# Dataset First Look\n",
        "\n",
        "FedEx_data.head()"
      ],
      "metadata": {
        "id": "LWNFOSvLl09H",
        "collapsed": true
      },
      "execution_count": null,
      "outputs": []
    },
    {
      "cell_type": "markdown",
      "source": [
        "### Dataset Rows & Columns count"
      ],
      "metadata": {
        "id": "7hBIi_osiCS2"
      }
    },
    {
      "cell_type": "code",
      "source": [
        "# Dataset Rows & Columns count\n",
        "\n",
        "FedEx_data.shape"
      ],
      "metadata": {
        "id": "Kllu7SJgmLij",
        "collapsed": true
      },
      "execution_count": null,
      "outputs": []
    },
    {
      "cell_type": "markdown",
      "source": [
        "### Dataset Information"
      ],
      "metadata": {
        "id": "JlHwYmJAmNHm"
      }
    },
    {
      "cell_type": "code",
      "source": [
        "# Dataset Info\n",
        "\n",
        "FedEx_data.info()"
      ],
      "metadata": {
        "id": "e9hRXRi6meOf",
        "collapsed": true
      },
      "execution_count": null,
      "outputs": []
    },
    {
      "cell_type": "markdown",
      "source": [
        "#### Duplicate Values"
      ],
      "metadata": {
        "id": "35m5QtbWiB9F"
      }
    },
    {
      "cell_type": "code",
      "source": [
        "# Dataset Duplicate Value Count\n",
        "\n",
        "FedEx_data.duplicated().sum()"
      ],
      "metadata": {
        "id": "1sLdpKYkmox0",
        "collapsed": true
      },
      "execution_count": null,
      "outputs": []
    },
    {
      "cell_type": "markdown",
      "source": [
        "#### Missing Values/Null Values"
      ],
      "metadata": {
        "id": "PoPl-ycgm1ru"
      }
    },
    {
      "cell_type": "code",
      "source": [
        "# Missing Values/Null Values Count\n",
        "\n",
        "FedEx_data.isnull().sum()"
      ],
      "metadata": {
        "id": "GgHWkxvamxVg",
        "collapsed": true
      },
      "execution_count": null,
      "outputs": []
    },
    {
      "cell_type": "code",
      "source": [
        "# Visualizing the missing values\n",
        "\n",
        "sns.heatmap(FedEx_data.isnull(), cbar=False)\n",
        "plt.show()"
      ],
      "metadata": {
        "id": "3q5wnI3om9sJ",
        "collapsed": true
      },
      "execution_count": null,
      "outputs": []
    },
    {
      "cell_type": "markdown",
      "source": [
        "### What did you know about your dataset?"
      ],
      "metadata": {
        "id": "H0kj-8xxnORC"
      }
    },
    {
      "cell_type": "markdown",
      "source": [
        "Answer Here\n",
        "\n",
        "## General Information\n",
        "1. The dataset contains 33 columns and 10,324 rows.\n",
        "2. It primarily consists of data related to projects, shipments, and product details.\n",
        "\n",
        "## Datatype\n",
        "1. The dataset contains 3 intiger64 columns, 4 float64 columns and 26 object type columns.\n",
        "2. Key numerical columns include Line Item Value, Pack Price, Unit Price, and Line Item Insurance (USD).\n",
        "\n",
        "\n",
        "## Null Values:\n",
        "1. Some columns have missing values:\n",
        "2. Shipment Mode has 360 missing values.\n",
        "3. Dosage has 1,736 missing values.\n",
        "4. Line Item Insurance (USD) has 287 missing values."
      ],
      "metadata": {
        "id": "gfoNAAC-nUe_"
      }
    },
    {
      "cell_type": "code",
      "source": [
        "# pd.display.max_columns = None\n",
        "# pd.display.max_rows = None"
      ],
      "metadata": {
        "id": "Q0F2FlAtmQQw"
      },
      "execution_count": null,
      "outputs": []
    },
    {
      "cell_type": "markdown",
      "source": [
        "## ***2. Understanding Your Variables***"
      ],
      "metadata": {
        "id": "nA9Y7ga8ng1Z"
      }
    },
    {
      "cell_type": "code",
      "source": [
        "# Dataset Columns\n",
        "\n",
        "FedEx_data.columns"
      ],
      "metadata": {
        "id": "j7xfkqrt5Ag5",
        "collapsed": true
      },
      "execution_count": null,
      "outputs": []
    },
    {
      "cell_type": "code",
      "source": [
        "# Dataset Describe\n",
        "\n",
        "FedEx_data.describe()"
      ],
      "metadata": {
        "id": "DnOaZdaE5Q5t",
        "collapsed": true
      },
      "execution_count": null,
      "outputs": []
    },
    {
      "cell_type": "markdown",
      "source": [
        "### Variables Description"
      ],
      "metadata": {
        "id": "PBTbrJXOngz2"
      }
    },
    {
      "cell_type": "markdown",
      "source": [
        "1. **ID:** A unique identifier for each record in the dataset.\n",
        "2. **Project Code:** A code representing a specific project.\n",
        "3. **PQ #:** A reference number for the Project Quotation.\n",
        "4. **PO / SO #:** Purchase Order or Sales Order number.\n",
        "5. **ASN/DN #:** Advanced Shipment Notice or Delivery Note number.\n",
        "6. **Country:** The country associated with the project or shipment.\n",
        "7. **Managed By:** The person or team responsible for managing the project.\n",
        "8. **Fulfill Via:** The method used for fulfillment (e.g., air, sea, road).\n",
        "9. **Vendor INCO Term:** Incoterms used for shipping agreements with the vendor.\n",
        "10. **Shipment Mode:** The mode of shipment (e.g., air, sea, road).\n",
        "11. **PQ First Sent to Client Date:** The date the Project Quotation was first sent to the client.\n",
        "12. **PO Sent to Vendor Date:** The date the Purchase Order was sent to the vendor.\n",
        "13. **Scheduled Delivery Date:** The planned date for delivery to the client.\n",
        "14. **Delivered to Client Date:** The actual date the product was delivered to the client.\n",
        "15. **Delivery Recorded Date:** The date the delivery was officially recorded.\n",
        "16. **Product Group:** The category or group to which the product belongs.\n",
        "17. **Sub Classification:** A finer classification of the product within the Product Group.\n",
        "18. **Vendor:** The supplier of the product.\n",
        "19. **Item Description:** A detailed description of the product.\n",
        "20. **Molecule/Test Type:** The type of molecule or test associated with the product.\n",
        "21. **Brand:** The brand of the product.\n",
        "22. **Dosage:** The dosage strength of the product (if applicable).\n",
        "23. **Dosage Form:** The form of the product (e.g., tablet, liquid).\n",
        "24. **Unit of Measure (Per Pack):** The measurement unit for each pack.\n",
        "25. **Line Item Quantity:** The quantity of items in the line item.\n",
        "26. **Line Item Value:** The total monetary value of the line item.\n",
        "27. **Pack Price:** The price per pack of the product.\n",
        "28. **Unit Price:** The price per unit of the product.\n",
        "29. **Manufacturing Site:** The location where the product was manufactured.\n",
        "30. **First Line Designation:** A designation indicating priority or preference.\n",
        "31. **Weight (Kilograms):** The weight of the shipment in kilograms.\n",
        "32. **Freight Cost (USD):** The cost of freight for the shipment in USD.\n",
        "33. **Line Item Insurance (USD):** The insurance cost for the line item in USD."
      ],
      "metadata": {
        "id": "aJV4KIxSnxay"
      }
    },
    {
      "cell_type": "markdown",
      "source": [
        "\n",
        "### Check Unique Values for each variable."
      ],
      "metadata": {
        "id": "u3PMJOP6ngxN"
      }
    },
    {
      "cell_type": "code",
      "source": [
        "# Check Unique Values for each variable.\n",
        "print(\"Number of unique values in each column\")\n",
        "print()\n",
        "for i in FedEx_data.columns.tolist():\n",
        "  print(f\"{i} --> {FedEx_data[i].unique().size}\")"
      ],
      "metadata": {
        "id": "zms12Yq5n-jE",
        "collapsed": true
      },
      "execution_count": null,
      "outputs": []
    },
    {
      "cell_type": "markdown",
      "source": [
        "## 3. ***Data Wrangling***"
      ],
      "metadata": {
        "id": "dauF4eBmngu3"
      }
    },
    {
      "cell_type": "markdown",
      "source": [
        "### Data Wrangling Code"
      ],
      "metadata": {
        "id": "bKJF3rekwFvQ"
      }
    },
    {
      "cell_type": "code",
      "source": [
        "# Write your code to make your dataset analysis ready.\n",
        "\n",
        "FedEx_data.duplicated().sum()         # No Duplicate Data"
      ],
      "metadata": {
        "id": "wk-9a2fpoLcV",
        "collapsed": true
      },
      "execution_count": null,
      "outputs": []
    },
    {
      "cell_type": "code",
      "source": [
        "FedEx_data.isnull().sum()"
      ],
      "metadata": {
        "collapsed": true,
        "id": "gcPudUTpayy8"
      },
      "execution_count": null,
      "outputs": []
    },
    {
      "cell_type": "code",
      "source": [
        "updated_FedEx = pd.DataFrame(FedEx_data)              #   -------------> FedEx data is copied to updated_FedEx"
      ],
      "metadata": {
        "id": "ufXIaCUucyoj"
      },
      "execution_count": null,
      "outputs": []
    },
    {
      "cell_type": "code",
      "source": [
        "# Filling missing values in the Dosage column\n",
        "\n",
        "updated_FedEx['Dosage'].fillna(updated_FedEx['Dosage'].mode()[0], inplace=True)\n",
        "updated_FedEx['Dosage']"
      ],
      "metadata": {
        "collapsed": true,
        "id": "GXyjI4wweTSL"
      },
      "execution_count": null,
      "outputs": []
    },
    {
      "cell_type": "code",
      "source": [
        "# Dropping all the rows having null value in column 'Line Item Insurance (USD)'\n",
        "\n",
        "updated_FedEx = updated_FedEx.dropna(subset= ['Line Item Insurance (USD)', 'Shipment Mode'])\n",
        "updated_FedEx.reset_index(drop=True, inplace=True)"
      ],
      "metadata": {
        "collapsed": true,
        "id": "8xiucoH_gU-6"
      },
      "execution_count": null,
      "outputs": []
    },
    {
      "cell_type": "code",
      "source": [
        "updated_FedEx.head(10)"
      ],
      "metadata": {
        "collapsed": true,
        "id": "ByE1ctNDHhb3"
      },
      "execution_count": null,
      "outputs": []
    },
    {
      "cell_type": "code",
      "source": [
        "updated_FedEx.info()"
      ],
      "metadata": {
        "id": "WptJVXK4xTFO",
        "collapsed": true
      },
      "execution_count": null,
      "outputs": []
    },
    {
      "cell_type": "code",
      "source": [
        "updated_FedEx.columns"
      ],
      "metadata": {
        "collapsed": true,
        "id": "YXa2dkKHksJd"
      },
      "execution_count": null,
      "outputs": []
    },
    {
      "cell_type": "code",
      "source": [
        "updated_FedEx[['PQ First Sent to Client Date', 'PO Sent to Vendor Date', 'Scheduled Delivery Date', 'Delivered to Client Date', 'Delivery Recorded Date']]"
      ],
      "metadata": {
        "id": "9HeAPi8iFz0d",
        "collapsed": true
      },
      "execution_count": null,
      "outputs": []
    },
    {
      "cell_type": "code",
      "source": [
        "# invalid entries are converted to \"Unknown\"\n",
        "\n",
        "invalid_entries = ['Pre-PQ Process', 'N/A - From RDC', 'Date Not Captured']\n",
        "\n",
        "for col in ['PQ First Sent to Client Date', 'PO Sent to Vendor Date', 'Delivered to Client Date', 'Scheduled Delivery Date', 'Delivery Recorded Date']:\n",
        "  updated_FedEx[col] = updated_FedEx[col].replace(invalid_entries, 'Unknown')"
      ],
      "metadata": {
        "id": "dF97C7xSNHYo"
      },
      "execution_count": null,
      "outputs": []
    },
    {
      "cell_type": "code",
      "source": [
        "updated_FedEx[['PQ First Sent to Client Date', 'PO Sent to Vendor Date', 'Delivered to Client Date', 'Scheduled Delivery Date', 'Delivery Recorded Date']]"
      ],
      "metadata": {
        "collapsed": true,
        "id": "4r3QAxk1yVeb"
      },
      "execution_count": null,
      "outputs": []
    },
    {
      "cell_type": "code",
      "source": [
        "# All the date columns are converted from object type to datetime type and \"Unknows\" are converted to NaT\n",
        "\n",
        "for col in ['PQ First Sent to Client Date', 'PO Sent to Vendor Date', 'Delivered to Client Date', 'Scheduled Delivery Date', 'Delivery Recorded Date']:\n",
        "  updated_FedEx[col] = pd.to_datetime(updated_FedEx[col], errors='coerce')"
      ],
      "metadata": {
        "id": "fqw-vJnBNx7g"
      },
      "execution_count": null,
      "outputs": []
    },
    {
      "cell_type": "code",
      "source": [
        "updated_FedEx[['PQ First Sent to Client Date', 'PO Sent to Vendor Date', 'Delivered to Client Date', 'Scheduled Delivery Date', 'Delivery Recorded Date']].head(60)"
      ],
      "metadata": {
        "collapsed": true,
        "id": "ifWlTBQXykeI"
      },
      "execution_count": null,
      "outputs": []
    },
    {
      "cell_type": "code",
      "source": [
        "for col in ['PQ First Sent to Client Date', 'PO Sent to Vendor Date', 'Delivered to Client Date', 'Scheduled Delivery Date', 'Delivery Recorded Date']:\n",
        "  print(f\"{[col]} ----> {updated_FedEx[col].isnull().sum()}\")"
      ],
      "metadata": {
        "collapsed": true,
        "id": "RpBH0HsC5pDN"
      },
      "execution_count": null,
      "outputs": []
    },
    {
      "cell_type": "code",
      "source": [
        "updated_FedEx.info()"
      ],
      "metadata": {
        "id": "o6KLHHBZQbWf",
        "collapsed": true
      },
      "execution_count": null,
      "outputs": []
    },
    {
      "cell_type": "code",
      "source": [
        "updated_FedEx['Actual Delivery Difference'] = (updated_FedEx[\"Delivered to Client Date\"] - updated_FedEx[\"Scheduled Delivery Date\"]).dt.days\n",
        "\n",
        "# updated_FedEx['Delivery Time (Days)'] = (updated_FedEx['Delivered to Client Date'] - updated_FedEx['Scheduled Delivery Date']).dt.days\n"
      ],
      "metadata": {
        "id": "Fg3K583I2onw"
      },
      "execution_count": null,
      "outputs": []
    },
    {
      "cell_type": "code",
      "source": [
        "updated_FedEx[['Delivered to Client Date', 'Scheduled Delivery Date', 'Actual Delivery Difference']]"
      ],
      "metadata": {
        "collapsed": true,
        "id": "AvmE0NaeWDdz"
      },
      "execution_count": null,
      "outputs": []
    },
    {
      "cell_type": "code",
      "source": [
        "# Created columns \"IS On-Time Delivery\" to check if delivery is on-time or not.\n",
        "\n",
        "updated_FedEx[\"Is On-Time Delivery\"] = updated_FedEx[\"Actual Delivery Difference\"].apply(lambda x: 1 if x <= 0 else 0)"
      ],
      "metadata": {
        "id": "UF2-sIlQU1Sh"
      },
      "execution_count": null,
      "outputs": []
    },
    {
      "cell_type": "code",
      "source": [
        "updated_FedEx[['Delivered to Client Date', 'Scheduled Delivery Date', 'Actual Delivery Difference', \"Is On-Time Delivery\"]]"
      ],
      "metadata": {
        "collapsed": true,
        "id": "Qcy41Kj5VzYm"
      },
      "execution_count": null,
      "outputs": []
    },
    {
      "cell_type": "markdown",
      "source": [
        "### What all manipulations have you done and insights you found?"
      ],
      "metadata": {
        "id": "MSa1f5Uengrz"
      }
    },
    {
      "cell_type": "markdown",
      "source": [
        "#Manipulations#\n",
        "\n",
        "1. All the missing values in the \"Dosage\" column are filled with mode value of the column\n",
        "2. All rows where 'Line Item Insurance (USD)' and 'Shipment Mode' are null are dropped.\n",
        "3. All the date columns of object type are formatted and converted to datetime type and invalid entries are converted to NaT.\n",
        "4. New column is created as \"Actual Delivery Difference\" to get the gap between estimated and actual delivery to the customer.\n",
        "5. Created column \"Is On-Time Delivery\" to check if delivery is on-time or not.\n",
        "\n",
        "#Insights#\n",
        "1. There are no duplicate rows.\n",
        "2. 'PQ First Sent to Client Date' ----> 2140 null values, 'PO Sent to Vendor Date' ----> 5276 null values."
      ],
      "metadata": {
        "id": "LbyXE7I1olp8"
      }
    },
    {
      "cell_type": "markdown",
      "source": [],
      "metadata": {
        "id": "CM-664iEIEpT"
      }
    },
    {
      "cell_type": "markdown",
      "source": [
        "## ***4. Data Vizualization, Storytelling & Experimenting with charts : Understand the relationships between variables***"
      ],
      "metadata": {
        "id": "GF8Ens_Soomf"
      }
    },
    {
      "cell_type": "markdown",
      "source": [
        "#### Chart - 1"
      ],
      "metadata": {
        "id": "0wOQAZs5pc--"
      }
    },
    {
      "cell_type": "code",
      "source": [
        "# Chart - 1 visualization code\n",
        "# Analyze on-time delivery rates across regions, and shipment modes. Identify the percentage of deliveries delayed.\n",
        "\n",
        "# Function to calculate On-Time Delivery Rate\n",
        "def delivery_rate(value):\n",
        "  return round(value.sum() / value.count() * 100, 2)\n",
        "\n",
        "# Loop through the columns 'Country' and 'Shipment Mode' to calculate and visualize delivery rates\n",
        "for col in ['Country', 'Shipment Mode']:\n",
        "  on_time_delivery_rate = updated_FedEx.groupby(col)[\"Is On-Time Delivery\"].apply(delivery_rate).sort_values(ascending =False).reset_index()\n",
        "\n",
        "  # Creating a bar chart for the calculated delivery rates\n",
        "  fig = px.bar(on_time_delivery_rate, x=col, y=\"Is On-Time Delivery\", color=\"Is On-Time Delivery\")\n",
        "  fig.update_layout(width = 1000, height = 400, title=f\"Delivery Rate by {col}.\", yaxis_title=\"Delivery Rate\", xaxis_title=col)\n",
        "  fig.show()"
      ],
      "metadata": {
        "id": "7v_ESjsspbW7"
      },
      "execution_count": null,
      "outputs": []
    },
    {
      "cell_type": "markdown",
      "source": [
        "##### 1. Why did you pick the specific chart?"
      ],
      "metadata": {
        "id": "K5QZ13OEpz2H"
      }
    },
    {
      "cell_type": "markdown",
      "source": [
        "The reason I chose Barchart is because it is good for showing Numerical data (Delivery Rate) Vs Categorical data (Country and Shipment Mode)."
      ],
      "metadata": {
        "id": "XESiWehPqBRc"
      }
    },
    {
      "cell_type": "markdown",
      "source": [
        "##### 2. What is/are the insight(s) found from the chart?"
      ],
      "metadata": {
        "id": "lQ7QKXXCp7Bj"
      }
    },
    {
      "cell_type": "markdown",
      "source": [
        "##Delivery Rate Vs Country\n",
        "\n",
        "1. 40 countries have delivery rates of more than 70 percent.\n",
        "2. There are 15 countries with 100 percent On-Time deliveries.\n",
        "3. Only 3 countries which are \"Burundi\", \"Senegal\" and \"To go\" have less than 70 percent of delivery rates.\n",
        "\n",
        "## Delivery Rate Vs Shipment Mode\n",
        "1. \"Air\" mode has highest accuracy of delivery followed by \"Air Charter\".\n",
        "2. \"Ocean\" mode has lowest accuracy of delivery followed by \"Truck\"."
      ],
      "metadata": {
        "id": "C_j1G7yiqdRP"
      }
    },
    {
      "cell_type": "markdown",
      "source": [
        "##### 3. Will the gained insights help creating a positive business impact?\n",
        "Are there any insights that lead to negative growth? Justify with specific reason."
      ],
      "metadata": {
        "id": "448CDAPjqfQr"
      }
    },
    {
      "cell_type": "markdown",
      "source": [
        "Delivery by \"Ocean\" mode might be lower because the transportation speed of ships in the ocean is significantly lower than that of the \"Air ways\"."
      ],
      "metadata": {
        "id": "3cspy4FjqxJW"
      }
    },
    {
      "cell_type": "markdown",
      "source": [
        "#### Chart - 2"
      ],
      "metadata": {
        "id": "KSlN3yHqYklG"
      }
    },
    {
      "cell_type": "code",
      "source": [
        "# Chart - 2 visualization code\n",
        "# Delay Analysis:\n",
        "# Calculate average delays by:\n",
        "    # Region\n",
        "    # Vendor\n",
        "    # Shipment Mode\n",
        "    # Use heatmaps or bar charts to visualize delays.\n",
        "\n",
        "\n",
        "# Function to calculate average delay\n",
        "def delay(value):\n",
        "  temp = value.count() - value.sum()\n",
        "  return (temp / value.count()) * 100\n",
        "\n",
        "for col in [\"Country\", \"Vendor\", \"Shipment Mode\"]:\n",
        "  avg_delays = updated_FedEx.groupby(col)[\"Is On-Time Delivery\"].apply(delay).sort_values(ascending=False).reset_index()\n",
        "  avg_delays.columns = [col, \"Average Delay Rate\"]\n",
        "  fig = px.bar(avg_delays, x = col, y = \"Average Delay Rate\")\n",
        "  fig.update_layout(width=1500, height=500, title=f\"Average delay by {col}\", xaxis_title=col, yaxis_title=\"Average Delay Rate\")\n",
        "  fig.show()"
      ],
      "metadata": {
        "id": "R4YgtaqtYklH",
        "collapsed": true
      },
      "execution_count": null,
      "outputs": []
    },
    {
      "cell_type": "markdown",
      "source": [
        "##### 1. Why did you pick the specific chart?"
      ],
      "metadata": {
        "id": "t6dVpIINYklI"
      }
    },
    {
      "cell_type": "markdown",
      "source": [
        "We chose Barplot because it is good to visualize the comparison between different groups.\n",
        "\n",
        "Here, we saw the comparison between different Countries, Vendors and Shipment Modes."
      ],
      "metadata": {
        "id": "5aaW0BYyYklI"
      }
    },
    {
      "cell_type": "markdown",
      "source": [
        "##### 2. What is/are the insight(s) found from the chart?"
      ],
      "metadata": {
        "id": "ijmpgYnKYklI"
      }
    },
    {
      "cell_type": "markdown",
      "source": [
        "1. Three Countries i.e., \"Burundi\", \"Senegal\" and \"Togo\" with the highest delayed delivery rate. Where \"Burundi\" ranks at 1st position followed by \"Senegal\" and \"Togo\".\n",
        "\n",
        "2. \"Sun Pharmaceuticals Industries limited\" has the highest rate of delayed delivery by \"25 percent\" among all the Vendors followed by \"Abbott GmbH & Co. KG\" with \"20 percent\" and \"SCMS from RDC\" with \"18.37 percent\"\n",
        "\n",
        "3. Among all 4 shipment modes \"Ocean\" leads the delayed delivery rates by \"17.52 percent\", where \"Truck\" with \"16.07 percent\" average delay rate follows \"Ocean\"."
      ],
      "metadata": {
        "id": "PSx9atu2YklI"
      }
    },
    {
      "cell_type": "markdown",
      "source": [
        "##### 3. Will the gained insights help creating a positive business impact?\n",
        "Are there any insights that lead to negative growth? Justify with specific reason."
      ],
      "metadata": {
        "id": "-JiQyfWJYklI"
      }
    },
    {
      "cell_type": "markdown",
      "source": [
        "##1.\n",
        "\n",
        "* **Targeted Regional Improvements:** Countries like Burundi, Senegal, and Togo, which have the highest delayed delivery rates, can be prioritized for intervention. Understanding the root causes—such as infrastructure challenges, customs delays, or vendor inefficiencies—will allow for tailored solutions to reduce delays.\n",
        "\n",
        "* **Vendor Performance Management:** Vendors like Sun Pharmaceuticals Industries Ltd., Abbott GmbH & Co. KG, and SCMS from RDC can be engaged with performance improvement plans. Setting clear benchmarks, conducting periodic reviews, and offering operational support will help align their delivery performance with FedEx’s standards.\n",
        "\n",
        "* **Mode Optimization:** The Ocean and Truck shipment modes, which show higher average delay rates, can be scrutinized for inefficiencies. By exploring alternative routes, reducing dependency on slower processes, and enhancing tracking mechanisms, the delays associated with these modes can be minimized.\n",
        "\n",
        "##2.\n",
        "* **Regional Delays in Key Markets:** Persistent delays in countries like Burundi, Senegal, and Togo can tarnish FedEx's reputation in these regions, potentially driving customers to competitors. These delays might also increase operational costs due to penalties or loss of future business opportunities.\n",
        "\n",
        "* **Underperforming Vendors:** Vendors like Sun Pharmaceuticals Industries Ltd. and SCMS from RDC with high delay rates could negatively impact the overall supply chain. This can lead to customer dissatisfaction and strained vendor relationships, both of which can harm business growth."
      ],
      "metadata": {
        "id": "BcBbebzrYklV"
      }
    },
    {
      "cell_type": "markdown",
      "source": [
        "#### Chart - 3"
      ],
      "metadata": {
        "id": "EM7whBJCYoAo"
      }
    },
    {
      "cell_type": "code",
      "source": [
        "# changed the type of \"Freight Cost (USD)\" column from object to float.\n",
        "updated_FedEx[\"Freight Cost (USD)\"] = pd.to_numeric(updated_FedEx[\"Freight Cost (USD)\"], errors = \"coerce\")\n",
        "\n",
        "# Filled null values in \"Freight Cost (USD)\" column by mean value.\n",
        "updated_FedEx[\"Freight Cost (USD)\"].fillna(updated_FedEx[\"Freight Cost (USD)\"].mean(), inplace = True)"
      ],
      "metadata": {
        "id": "0MTs3zi9pHrk"
      },
      "execution_count": null,
      "outputs": []
    },
    {
      "cell_type": "code",
      "source": [
        "# Chart - 3 visualization code\n",
        "# 2: Shipment Mode Analysis\n",
        "# Shipment Mode Comparison:\n",
        "# Compare performance metrics (cost, speed, delays) for air, sea, and road shipments. Identify which modes are most efficient for specific regions or products.\n",
        "\n",
        "# Grouping data by 'Shipment Mode' and calculate mean for freight cost and delivery difference,\n",
        "# while applying the custom 'delay' function to calculate the average delay rate\n",
        "avg_delivery = updated_FedEx.groupby(\"Shipment Mode\").agg({\"Freight Cost (USD)\": \"mean\", \"Actual Delivery Difference\": \"mean\", \"Is On-Time Delivery\": delay})\n",
        "\n",
        "# Rename columns for better readability in the final dataset\n",
        "avg_delivery = avg_delivery.rename(columns = {\"Freight Cost (USD)\":\"Average Cost\", \"Actual Delivery Difference\":\"Average speed in Days\", \"Is On-Time Delivery\":\"Average delay in Days\"}, inplace = False)   ## (inplace = False) Return a new DataFrame instead of modifying the original\n",
        "avg_delivery.reset_index(inplace=True)\n",
        "\n",
        "# Define titles and corresponding columns for plotting\n",
        "_title = [\"Avg_Delivery_Cost_By_Mode\", \"Avg_Delivery_Speed_By_Mode\", \"Avg_Delivery_Delay_By_Mode\"]\n",
        "_cols = [\"Average Cost\", \"Average speed in Days\", \"Average delay in Days\"]\n",
        "\n",
        "# Loop through each title and column pair to create individual bar charts\n",
        "for tl,col in zip(_title, _cols):\n",
        "  fig = px.bar(avg_delivery, x=\"Shipment Mode\", y=col, title = tl)\n",
        "  fig.update_layout(width=600, height=400, title=tl, xaxis_title=\"Shipment Mode\", yaxis_title=col)\n",
        "\n",
        "  fig.show()\n"
      ],
      "metadata": {
        "id": "t6GMdE67YoAp",
        "collapsed": true
      },
      "execution_count": null,
      "outputs": []
    },
    {
      "cell_type": "markdown",
      "source": [
        "##### 1. Why did you pick the specific chart?"
      ],
      "metadata": {
        "id": "fge-S5ZAYoAp"
      }
    },
    {
      "cell_type": "markdown",
      "source": [
        "We chose barchart here because it is more suitable than any other chart to show the comparison between all the groups and thier perrformances."
      ],
      "metadata": {
        "id": "5dBItgRVYoAp"
      }
    },
    {
      "cell_type": "markdown",
      "source": [
        "##### 2. What is/are the insight(s) found from the chart?"
      ],
      "metadata": {
        "id": "85gYPyotYoAp"
      }
    },
    {
      "cell_type": "markdown",
      "source": [
        "##Average Cost\n",
        "1. \"Air Charter\" has the highest average cost of \"17,670 USD\" followed by \"Ocean\" with \"12,390 USD\".\n",
        "2. Whereas \"Air\" has the lowest averrage cost of \"10,800 USD\".\n",
        "\n",
        "##Average Speed in Days\n",
        "1. \"Air Charter\" has the best average speed of shipment with \"-19 days\" where \"Truck\" has the second position with approx of \"-9 days\" (negative value indicates on-time delivery).\n",
        "\n",
        "##Average Dalay in Days\n",
        "1. \"Ocean\" has the highest average delay of days to deliver the shipment with \"17 days\", contributed by \"Truck\" mode with \"16 days\"."
      ],
      "metadata": {
        "id": "4jstXR6OYoAp"
      }
    },
    {
      "cell_type": "markdown",
      "source": [
        "##### 3. Will the gained insights help creating a positive business impact?\n",
        "Are there any insights that lead to negative growth? Justify with specific reason."
      ],
      "metadata": {
        "id": "RoGjAbkUYoAp"
      }
    },
    {
      "cell_type": "markdown",
      "source": [
        "Answer Here"
      ],
      "metadata": {
        "id": "zfJ8IqMcYoAp"
      }
    },
    {
      "cell_type": "markdown",
      "source": [
        "#### Chart - 4"
      ],
      "metadata": {
        "id": "4Of9eVA-YrdM"
      }
    },
    {
      "cell_type": "code",
      "source": [
        "# Chart - 4 visualization code\n",
        "# Cost-Performance Trade-Off:\n",
        "# Correlate freight cost with delivery speed and reliability.\n",
        "\n",
        "# updated_FedEx[['Scheduled Delivery Date', 'Delivered to Client Date', 'Actual Delivery Difference','Is On-Time Delivery']]\n",
        "\n",
        "# Calculating the correlation matrix for selected columns in the dataset\n",
        "# 'Freight Cost (USD)', 'Actual Delivery Difference', and 'Is On-Time Delivery' are analyzed\n",
        "correlation = updated_FedEx[['Freight Cost (USD)','Actual Delivery Difference','Is On-Time Delivery']].corr()\n",
        "\n",
        "# Round off the correlation values to 2 decimal places for better readability\n",
        "annotation = np.round(correlation.values, 2)\n",
        "\n",
        "# Create an annotated heatmap using Plotly's figure factory (ff)\n",
        "fig = ff.create_annotated_heatmap(correlation.values, x=list(correlation.columns), y=list(correlation.index), colorscale='Viridis', annotation_text = annotation)\n",
        "fig.show()"
      ],
      "metadata": {
        "id": "irlUoxc8YrdO"
      },
      "execution_count": null,
      "outputs": []
    },
    {
      "cell_type": "markdown",
      "source": [
        "##### 1. Why did you pick the specific chart?"
      ],
      "metadata": {
        "id": "iky9q4vBYrdO"
      }
    },
    {
      "cell_type": "markdown",
      "source": [
        "We, here, chose the heatmap because it is great to visualize the correlation matrices.\n",
        "\n",
        "We are showing the correlation of \"Freight Cost\" with Delivery speed (\"Actual Delivery Difference\") and Reliability (\"Is On-Time Delivery)."
      ],
      "metadata": {
        "id": "aJRCwT6DYrdO"
      }
    },
    {
      "cell_type": "markdown",
      "source": [
        "##### 2. What is/are the insight(s) found from the chart?"
      ],
      "metadata": {
        "id": "F6T5p64dYrdO"
      }
    },
    {
      "cell_type": "markdown",
      "source": [
        "## Freight Cost vs. Performance Metrics:\n",
        "\n",
        "1. The very weak correlations with both \"Actual Delivery Difference\" and \"Is On-Time Delivery\" suggest that freight cost doesn't significantly influence delivery speed or reliability.\n",
        "2. This might indicate that spending more on freight doesn't necessarily guarantee faster or more reliable deliveries .\n",
        "\n",
        "## Delivery Speed vs Reliability:\n",
        "\n",
        "1. The moderate negative correlation between \"Actual Delivery Difference\" and \"Is On-Time Delivery\" is expected:\n",
        "When the actual delivery difference is large (late deliveries), the on-time delivery rate decreases."
      ],
      "metadata": {
        "id": "Xx8WAJvtYrdO"
      }
    },
    {
      "cell_type": "markdown",
      "source": [
        "##### 3. Will the gained insights help creating a positive business impact?\n",
        "Are there any insights that lead to negative growth? Justify with specific reason."
      ],
      "metadata": {
        "id": "y-Ehk30pYrdP"
      }
    },
    {
      "cell_type": "markdown",
      "source": [
        "##Freight Cost vs. Delivery Speed:\n",
        "\n",
        "1. If higher freight costs are not translating into faster deliveries, this could indicate inefficiency or mismanagement in logistics.\n",
        "\n",
        "## On-Time Delivery Rate:\n",
        "\n",
        "1. A declining on-time delivery rate (low reliability) directly impacts customer satisfaction and trust, leading to potential loss of business.\n",
        "\n",
        "#Reasons\n",
        "\n",
        "## Regional or Vendor-Specific Underperformance:\n",
        "\n",
        "1. Certain regions or vendors might have significantly lower on-time delivery rates or higher delays.\n",
        "\n",
        "##Mode of Shipment Issues:\n",
        "\n",
        "1. Some shipment modes (e.g., sea or road) might consistently lead to delays compared to air shipments.\n"
      ],
      "metadata": {
        "id": "jLNxxz7MYrdP"
      }
    },
    {
      "cell_type": "markdown",
      "source": [
        "#### Chart - 5"
      ],
      "metadata": {
        "id": "bamQiAODYuh1"
      }
    },
    {
      "cell_type": "code",
      "source": [
        "# Chart - 5 visualization code\n",
        "# 3: Vendor Performance Analysis\n",
        "# Vendor Rankings:\n",
        "# Rank vendors based on on-time delivery rates and consistency. Identify vendors contributing to the highest delays.\n",
        "\n",
        "# Grouping the dataset by \"Vendor\" and calculate the delivery rate for each vendor\n",
        "# Applying the custom `delivery_rate` function to calculate the percentage of on-time deliveries\n",
        "top_vendors = updated_FedEx.groupby(\"Vendor\")[\"Is On-Time Delivery\"].apply(delivery_rate).reset_index()\n",
        "\n",
        "#Renaming the columns for better understanding\n",
        "top_vendors.columns = [\"Vendors\", \"On-Time Delivery Rate\"]\n",
        "\n",
        "# Sorting the vendors based on their on-time delivery rate in descending order\n",
        "top_vendors.sort_values(\"On-Time Delivery Rate\", ascending = False, inplace = True)\n",
        "\n",
        "# Creating a bar chart using Plotly to visualize the performance of top vendors\n",
        "px.bar(top_vendors, x=\"Vendors\", y=\"On-Time Delivery Rate\", title=\"Top Vendors\", color=\"On-Time Delivery Rate\")"
      ],
      "metadata": {
        "id": "TIJwrbroYuh3"
      },
      "execution_count": null,
      "outputs": []
    },
    {
      "cell_type": "markdown",
      "source": [
        "##### 1. Why did you pick the specific chart?"
      ],
      "metadata": {
        "id": "QHF8YVU7Yuh3"
      }
    },
    {
      "cell_type": "markdown",
      "source": [
        "We used Bar chart here to showcase the top performing vendors on the basis  of their On-Time Delivery Rate."
      ],
      "metadata": {
        "id": "dcxuIMRPYuh3"
      }
    },
    {
      "cell_type": "markdown",
      "source": [
        "##### 2. What is/are the insight(s) found from the chart?"
      ],
      "metadata": {
        "id": "GwzvFGzlYuh3"
      }
    },
    {
      "cell_type": "markdown",
      "source": [
        "1. We can see that there are more than 70 percent of the vendors with 100% of On-time Delivery Rate.\n",
        "\n",
        "2. There are 20 Vendors which have On-Time Delivery Rate of less than 100%.\n",
        "\n",
        "3. \"Sun Pharmaceutical Industry Ltd.\" has the wort delivery rate followed by \"Abbott GmbH & Co. KG\" and \"SCMS from RDC\"."
      ],
      "metadata": {
        "id": "uyqkiB8YYuh3"
      }
    },
    {
      "cell_type": "markdown",
      "source": [
        "##### 3. Will the gained insights help creating a positive business impact?\n",
        "Are there any insights that lead to negative growth? Justify with specific reason."
      ],
      "metadata": {
        "id": "qYpmQ266Yuh3"
      }
    },
    {
      "cell_type": "markdown",
      "source": [
        "1.\n",
        "\n",
        "*   **High-Performing Vendors:** Identifying that more than 70% of vendors maintain a 100% on-time delivery rate reinforces the strength of existing partnerships.\n",
        "*   **Low-Performing Vendors:** Highlighting vendors with subpar performance (like \"Sun Pharmaceutical Industry Ltd.\") allows the company to take corrective actions, such as renegotiating contracts, providing additional support, or switching to more reliable vendors.\n",
        "\n",
        "2.\n",
        "* **Reliance on Poor-Performing Vendors:** Vendors with low on-time delivery rates (e.g., \"Sun Pharmaceutical Industry Ltd.\") can negatively impact the overall supply chain.\n",
        "* **Missed Opportunities:** Ignoring the insights could lead to continued inefficiencies in logistics and higher operational costs, especially if freight costs are high and delays persist.\n",
        "\n",
        "##Justification\n",
        "*   Poor vendor performance leads to increased delays, affecting delivery timelines and customer satisfaction.\n",
        "*  These delays can escalate operational costs, including expedited shipping or penalty fees for missed deadlines.\n"
      ],
      "metadata": {
        "id": "_WtzZ_hCYuh4"
      }
    },
    {
      "cell_type": "markdown",
      "source": [
        "#### Chart - 6"
      ],
      "metadata": {
        "id": "OH-pJp9IphqM"
      }
    },
    {
      "cell_type": "code",
      "source": [
        "# Chart - 6 visualization code\n",
        "# Vendor Analysis by Region:\n",
        "# Analyze which vendors perform well in specific regions and which struggle.\n",
        "\n",
        "# Grouping the dataset by \"Country\" and \"Vendor\" to calculate the delivery rate for each vendor in each country\n",
        "# Applying the custom `delivery_rate` function and sort the results in descending order for easier analysis\n",
        "vendor_performance = updated_FedEx.groupby([\"Country\", \"Vendor\"])[\"Is On-Time Delivery\"].apply(delivery_rate).sort_values(ascending = False).reset_index()\n",
        "\n",
        "# Renaming the column to \"Delivery Rate\" for better clarity and understanding\n",
        "vendor_performance = vendor_performance.rename(columns={\"Is On-Time Delivery\": \"Delivery Rate\"})\n",
        "\n",
        "good_perform = vendor_performance.groupby(\"Country\").head(1)              # sorted out the best performer from each country\n",
        "poor_perform = vendor_performance.groupby(\"Country\").tail(1)              # sorted out the poor performer from each country\n",
        "\n",
        "\n",
        "# Creating a list of dataframes and corresponding titles for iteration\n",
        "_lst = [vendor_performance ,good_perform, poor_perform]\n",
        "_title = [\"Vendor Performances\", \"Best Performing Vendor\", \"Worst Performing Vendor\"]\n",
        "\n",
        "\n",
        "# Looping through the dataframes and titles to generate scatter plots for each\n",
        "for l, t in zip(_lst, _title):\n",
        "  fig = px.scatter(\n",
        "    l,\n",
        "    x=\"Country\",\n",
        "    y=\"Delivery Rate\",\n",
        "    color=\"Vendor\",\n",
        "    title=t,\n",
        "    hover_name=\"Vendor\"\n",
        "  )\n",
        "  fig.show()\n"
      ],
      "metadata": {
        "id": "kuRf4wtuphqN",
        "collapsed": true
      },
      "execution_count": null,
      "outputs": []
    },
    {
      "cell_type": "markdown",
      "source": [
        "##### 1. Why did you pick the specific chart?"
      ],
      "metadata": {
        "id": "bbFf2-_FphqN"
      }
    },
    {
      "cell_type": "markdown",
      "source": [
        "1. We used scatterplot / bubblechart to show the vendors specifically where the stand in the delivery peroformance.\n",
        "2. We can also identify outliers which affects the entire records of the respective vendor."
      ],
      "metadata": {
        "id": "loh7H2nzphqN"
      }
    },
    {
      "cell_type": "markdown",
      "source": [
        "##### 2. What is/are the insight(s) found from the chart?"
      ],
      "metadata": {
        "id": "_ouA3fa0phqN"
      }
    },
    {
      "cell_type": "markdown",
      "source": [
        "1. **Strong Overall Performance:** Over 70% of vendors demonstrate good delivery performance, achieving an on-time delivery rate of 100%.\n",
        "2. **Vendor Struggles Identified:** \"SCMS from RDC\" is underperforming significantly, with the lowest delivery rate of 47.22% across 17 countries.\n",
        "3. **Backup Vendors Noted:** Vendors like \"EMCURE PHARMACEUTICALS LTD\" and \"STRIDES ARCOLAB LIMITED\" are also struggling, with a delivery rate of 60%, further emphasizing the need for targeted improvement strategies."
      ],
      "metadata": {
        "id": "VECbqPI7phqN"
      }
    },
    {
      "cell_type": "markdown",
      "source": [
        "##### 3. Will the gained insights help creating a positive business impact?\n",
        "Are there any insights that lead to negative growth? Justify with specific reason."
      ],
      "metadata": {
        "id": "Seke61FWphqN"
      }
    },
    {
      "cell_type": "markdown",
      "source": [
        "**Positive Impact**\n",
        "1. **Improved Vendor Selection:** By identifying vendors with consistently good performance, businesses can prioritize partnerships with reliable vendors, ensuring better service delivery and customer satisfaction.\n",
        "\n",
        "**Negative Growth**\n",
        "1. **Underperforming Vendors:** Vendors like \"SCMS from RDC,\" with a delivery rate as low as 47.22%, can harm the business by causing frequent delays, leading to dissatisfied customers, potential loss of contracts, and reputational damage.\n",
        "2. **Underperforming Vendors:** Vendors like \"SCMS from RDC,\" with a delivery rate as low as 47.22%, can harm the business by causing frequent delays, leading to dissatisfied customers, potential loss of contracts, and reputational damage."
      ],
      "metadata": {
        "id": "DW4_bGpfphqN"
      }
    },
    {
      "cell_type": "markdown",
      "source": [
        "#### Chart - 7"
      ],
      "metadata": {
        "id": "PIIx-8_IphqN"
      }
    },
    {
      "cell_type": "code",
      "source": [
        "# Chart - 7 visualization code\n",
        "# 4: Regional Performance Analysis\n",
        "# Delivery Trends by Region:\n",
        "# Identify regions with frequent delays and analyze contributing factors. Assess the impact of local infrastructure or regulations on delivery performance.\n",
        "\n",
        "# Group the dataset by \"Country\" and calculate the delayed delivery rate using the custom delay function\n",
        "# Sort the values in descending order to highlight countries with the highest delay rates\n",
        "regional_delayed_delivery = updated_FedEx.groupby(\"Country\")[\"Is On-Time Delivery\"].apply(delay).sort_values(ascending =False).reset_index()\n",
        "\n",
        "# Rename the column to \"Delayed Delivery Rate\" for clarity and better understanding\n",
        "regional_delayed_delivery = regional_delayed_delivery.rename(columns={\"Is On-Time Delivery\":\"Delayed Delivery Rate\"})\n",
        "\n",
        "# Filter the data to include only countries with a delayed delivery rate greater than 0\n",
        "# This removes any entries where there were no delays\n",
        "regional_delayed_delivery = regional_delayed_delivery.loc[regional_delayed_delivery[\"Delayed Delivery Rate\"] > 0,]\n",
        "regional_delayed_delivery\n",
        "\n",
        "# Create a pie chart using Plotly to visualize the delayed delivery rate by country\n",
        "# The \"values\" parameter specifies the delay rates, and \"names\" represents the countries\n",
        "fig = px.pie(regional_delayed_delivery, values=\"Delayed Delivery Rate\", names=\"Country\", title=\"Delayed Delivery Rate by Country\", hole=0.4)\n",
        "fig.update_layout(width = 900, height = 750)\n",
        "fig.update_traces( textinfo=\"percent+label\")"
      ],
      "metadata": {
        "id": "lqAIGUfyphqO"
      },
      "execution_count": null,
      "outputs": []
    },
    {
      "cell_type": "markdown",
      "source": [
        "##### 1. Why did you pick the specific chart?"
      ],
      "metadata": {
        "id": "t27r6nlMphqO"
      }
    },
    {
      "cell_type": "markdown",
      "source": [
        "1. We used a pie chart as it effectively visualizes the proportion of delayed delivery rates by country, making it easier to compare categorical data.\n",
        "2. It highlights the contribution of each country to the overall delays and is especially useful for emphasizing the most significant contributors in a visually appealing manner."
      ],
      "metadata": {
        "id": "iv6ro40sphqO"
      }
    },
    {
      "cell_type": "markdown",
      "source": [
        "##### 2. What is/are the insight(s) found from the chart?"
      ],
      "metadata": {
        "id": "r2jJGEOYphqO"
      }
    },
    {
      "cell_type": "markdown",
      "source": [
        "1. The chart visualizes that the country \"Burundi\" contributes the most and has  highest delayed delivery rate of 38%, followed by \"Senegal\" and \"Togo\" with 33.33% each.\n",
        "\n",
        "2. The country \"Vietnam\" has the lowest delayed delivery rate with 0.75%."
      ],
      "metadata": {
        "id": "Po6ZPi4hphqO"
      }
    },
    {
      "cell_type": "markdown",
      "source": [
        "##### 3. Will the gained insights help creating a positive business impact?\n",
        "Are there any insights that lead to negative growth? Justify with specific reason."
      ],
      "metadata": {
        "id": "b0JNsNcRphqO"
      }
    },
    {
      "cell_type": "markdown",
      "source": [
        "\n",
        "##i. Identifying Top Performers:\n",
        "\n",
        "1. Over 70% of vendors consistently deliver on time. Highlighting these vendors can help the business strengthen relationships with reliable partners and improve customer satisfaction.\n",
        "2. Recognizing high-performing vendors allows the business to model and replicate their successful strategies across other regions.\n",
        "\n",
        "##i. Addressing Underperforming Vendors:\n",
        "\n",
        "1. Vendors like \"SCMS from RDC\" with low delivery rates (47.22%) can be flagged for improvement. By focusing on these vendors, the business can work to reduce delays, renegotiate terms, or even explore alternative partnerships if necessary.\n",
        "2. Understanding why certain vendors struggle (e.g., logistics issues, resource constraints) can provide actionable solutions.\n",
        "\n",
        "\n",
        "##ii. Vendor Performance Gaps:\n",
        "\n",
        "1. Vendors like \"SCMS from RDC\" not only have poor delivery rates but also operate in 17 countries. This widespread underperformance can damage customer trust, leading to reputational and financial losses.\n",
        "\n",
        "##ii. Regional Challenges:\n",
        "\n",
        "1. If specific countries consistently experience high delay rates, it may indicate systemic issues such as inefficient supply chains, poor vendor communication, or inadequate resources in those regions.\n",
        "\n",
        "##Actionable Steps:\n",
        "1. Implement performance improvement programs for underperforming vendors.\n",
        "2. Prioritize investments in countries with high delay rates to resolve bottlenecks.\n",
        "3. Develop contingency plans to minimize dependency on low-performing vendors."
      ],
      "metadata": {
        "id": "xvSq8iUTphqO"
      }
    },
    {
      "cell_type": "markdown",
      "source": [
        "#### Chart - 8"
      ],
      "metadata": {
        "id": "BZR9WyysphqO"
      }
    },
    {
      "cell_type": "code",
      "source": [
        "# Chart - 8 visualization code\n",
        "# Freight Costs by Region:\n",
        "# Compare average freight costs across regions to identify high-cost areas.\n",
        "\n",
        "# Calculate the average freight cost for each country, rounded to two decimal places\n",
        "avg_freight_cost_by_country = round(updated_FedEx.groupby(\"Country\")[\"Freight Cost (USD)\"].mean(), 2)\n",
        "\n",
        "# Rename the resulting series to give it a meaningful column name\n",
        "avg_freight_cost_by_country.rename(\"Average_Freight_Cost (USD)\", inplace=True)\n",
        "\n",
        "# Sort the countries by their average freight cost in descending order and reset the index\n",
        "# This ensures the data is ordered for better visualization\n",
        "avg_freight_cost_by_country = avg_freight_cost_by_country.sort_values(ascending=False).reset_index()\n",
        "avg_freight_cost_by_country\n",
        "\n",
        "# Displaying the Average Freight Cost by COuntry using Plotly.\n",
        "fig = px.bar(avg_freight_cost_by_country, x=\"Country\", y=\"Average_Freight_Cost (USD)\", color=\"Average_Freight_Cost (USD)\")\n",
        "fig.update_layout(width=1300, height=500, title=\"Average Freight Cost by Country\", xaxis_title=\"Country\", yaxis_title=\"Average Freight Cost (USD)\")\n",
        "fig.show()"
      ],
      "metadata": {
        "id": "TdPTWpAVphqO",
        "collapsed": true
      },
      "execution_count": null,
      "outputs": []
    },
    {
      "cell_type": "markdown",
      "source": [
        "##### 1. Why did you pick the specific chart?"
      ],
      "metadata": {
        "id": "jj7wYXLtphqO"
      }
    },
    {
      "cell_type": "markdown",
      "source": [
        "We chose a bar chart because it is an effective way to compare average freight costs across different countries. Bar charts allow for a clear and straightforward visualization of differences among groups, making it easy to identify high-cost and low-cost countries at a glance. This chart is particularly suitable for categorical comparisons, such as country-specific averages, and provides a visual hierarchy of costs for quick insights."
      ],
      "metadata": {
        "id": "Ob8u6rCTphqO"
      }
    },
    {
      "cell_type": "markdown",
      "source": [
        "##### 2. What is/are the insight(s) found from the chart?"
      ],
      "metadata": {
        "id": "eZrbJ2SmphqO"
      }
    },
    {
      "cell_type": "markdown",
      "source": [
        "1. Cameroon has the highest average freight cost at 26,769.98 USD, followed by Nigeria (16,374.03 USD) and Rwanda (15,989.49 USD). These countries might have infrastructure or logistical challenges leading to high transportation costs.\n",
        "\n",
        "2. Cameroon is a significant outlier, with an average freight cost nearly 1.6x higher than the next country (Nigeria). This may indicate specific challenges, such as limited access, political instability, or reliance on expensive shipping methods."
      ],
      "metadata": {
        "id": "mZtgC_hjphqO"
      }
    },
    {
      "cell_type": "markdown",
      "source": [
        "##### 3. Will the gained insights help creating a positive business impact?\n",
        "Are there any insights that lead to negative growth? Justify with specific reason."
      ],
      "metadata": {
        "id": "rFu4xreNphqO"
      }
    },
    {
      "cell_type": "markdown",
      "source": [
        "##1.\n",
        "##Cost Optimization:\n",
        "Identifying countries with high freight costs (e.g., Cameroon, Nigeria, and Rwanda) allows the business to investigate the underlying reasons for these costs. These could include inefficient logistics, longer delivery distances, or higher customs fees. By addressing these factors, the company can negotiate better rates or optimize supply chain processes.\n",
        "\n",
        "##Resource Allocation:\n",
        "Regions with lower freight costs can serve as benchmarks or models for implementing cost-effective strategies in high-cost regions.\n",
        "\n",
        "##Strategic Decision-Making:\n",
        "The insights can guide decisions on pricing strategies, vendor negotiations, or regional prioritization to balance profitability and customer satisfaction.\n",
        "\n",
        "\n",
        "##2.\n",
        "## High Freight Costs Impacting Profit Margins:\n",
        "Countries with significantly high average freight costs, like Cameroon ($26,769.98) and Nigeria ($16,374.03), may result in reduced profit margins. If not addressed, this could lead to uncompetitive pricing or lower customer retention in those regions.\n",
        "\n",
        "## Market Exit Risk:\n",
        "Persistent high costs in certain regions may force the business to consider exiting unprofitable markets, potentially reducing market share and growth opportunities.\n",
        "\n",
        "\n",
        "##Suggestions to mitigate negative growth\n",
        "\n",
        "* Investigate the root causes of high freight costs in specific regions.\n",
        "* Optimize vendor contracts and delivery routes.\n",
        "* Consider alternative transportation modes for high-cost regions.\n",
        "* Leverage data to forecast and adjust operations proactively."
      ],
      "metadata": {
        "id": "ey_0qi68phqO"
      }
    },
    {
      "cell_type": "markdown",
      "source": [
        "#### Chart - 9"
      ],
      "metadata": {
        "id": "YJ55k-q6phqO"
      }
    },
    {
      "cell_type": "markdown",
      "source": [],
      "metadata": {
        "id": "B1fZ1JAvofd5"
      }
    },
    {
      "cell_type": "code",
      "source": [
        "# Chart - 9 visualization code\n",
        "# Weight and Freight Cost Analysis\n",
        "# Impact of Weight on Delivery:\n",
        "# Analyze how shipment weight correlates with delays. Check if heavier shipments tend to face more delays.\n",
        "\n",
        "updated_FedEx[\"Weight (Kilograms)\"] = pd.to_numeric(updated_FedEx[\"Weight (Kilograms)\"], errors=\"coerce\")\n",
        "\n",
        "# New DataFrame \"new_df\" is created with \"Country\" and \"Is On-Time Delivery\" columns.\n",
        "new_df = updated_FedEx[[\"Country\", \"Weight (Kilograms)\"]]\n",
        "new_df[\"Weight (Kilograms)\"] = new_df[\"Weight (Kilograms)\"].transform(lambda x: x.fillna(x.mode()[0]))\n",
        "new_df"
      ],
      "metadata": {
        "id": "DxmCfnjTvluc",
        "collapsed": true
      },
      "execution_count": null,
      "outputs": []
    },
    {
      "cell_type": "code",
      "source": [
        "# New dataframe \"avg-delay_country\" is created with \"Country\" and \"Is On-Time Delivery\" columns to calculate delay by country.\n",
        "avg_delay_country = updated_FedEx.groupby(\"Country\")[\"Is On-Time Delivery\"].apply(delay).reset_index()\n",
        "avg_delay_country = avg_delay_country.rename(columns={\"Is On-Time Delivery\": \"Average_Delay_Rate\"})\n",
        "\n",
        "# Merge the newly created delay rate data with the avg_delay_country DataFrame on the \"Country\" column\n",
        "new_DF = pd.merge(new_df, avg_delay_country, on=\"Country\", how=\"inner\")\n",
        "# new_DF\n",
        "\n",
        "# Create a scatter plot using Plotly to visualize the relationship between weight and average delay rate\n",
        "# Each country's data points are color-coded\n",
        "fig = px.scatter(new_DF, x=\"Weight (Kilograms)\", y=\"Average_Delay_Rate\", color=\"Country\")\n",
        "fig.update_layout(width=1300, height=500, title=\"Impact of Weight on Delivery\", xaxis_title=\"Weight (Kilograms)\", yaxis_title=\"Average Delay Rate\")\n",
        "fig.show()"
      ],
      "metadata": {
        "collapsed": true,
        "id": "anGTuYa1tw-F"
      },
      "execution_count": null,
      "outputs": []
    },
    {
      "cell_type": "markdown",
      "source": [
        "##### 1. Why did you pick the specific chart?"
      ],
      "metadata": {
        "id": "gCFgpxoyphqP"
      }
    },
    {
      "cell_type": "markdown",
      "source": [
        "1. **Visualizing Relationships:** A scatter plot is ideal for examining the relationship between two continuous variables. In this case, we are interested in understanding how shipment weight (a continuous variable) correlates with average delay rate (another continuous variable).\n",
        "\n",
        "2. **Identifying Outliers:** Scatter plots are effective at highlighting any outliers or unusual data points that might skew the analysis.\n",
        "\n",
        "3. **Understanding Distribution:** The scatter plot can give insights into how weight and delay are distributed across the dataset. We can quickly see if heavier shipments tend to experience more delays or if the relationship is weaker."
      ],
      "metadata": {
        "id": "TVxDimi2phqP"
      }
    },
    {
      "cell_type": "markdown",
      "source": [
        "##### 2. What is/are the insight(s) found from the chart?"
      ],
      "metadata": {
        "id": "OVtJsKN_phqQ"
      }
    },
    {
      "cell_type": "markdown",
      "source": [
        "1. **No Strong Correlation:** There may not be a strong linear relationship between weight and delay rate. This would suggest that heavier shipments do not necessarily result in higher delays, or there may be other factors influencing delays, such as region, vendor, or delivery mode."
      ],
      "metadata": {
        "id": "ngGi97qjphqQ"
      }
    },
    {
      "cell_type": "markdown",
      "source": [
        "##### 3. Will the gained insights help creating a positive business impact?\n",
        "Are there any insights that lead to negative growth? Justify with specific reason."
      ],
      "metadata": {
        "id": "lssrdh5qphqQ"
      }
    },
    {
      "cell_type": "markdown",
      "source": [
        "Answer Here"
      ],
      "metadata": {
        "id": "tBpY5ekJphqQ"
      }
    },
    {
      "cell_type": "markdown",
      "source": [
        "#### Chart - 10"
      ],
      "metadata": {
        "id": "U2RJ9gkRphqQ"
      }
    },
    {
      "cell_type": "code",
      "source": [
        "# Chart - 10 visualization code\n",
        "# Freight Cost Efficiency:\n",
        "# Compare freight costs for shipments of similar weight or volume. Highlight inefficiencies in cost management.\n",
        "\n",
        "new_df = updated_FedEx[[\"Country\", \"Weight (Kilograms)\"]]                                                           # new dataframe is created using \"Country\" and \"Weight (Kilograms)\" columns.\n",
        "new_df[\"Weight (Kilograms)\"] = new_df[\"Weight (Kilograms)\"].transform(lambda x: x.fillna(x.mode()[0]))              # All the null values in the wieght column are filled with the mode value.\n",
        "new_df[\"Freight Cost (USD)\"] = updated_FedEx[\"Freight Cost (USD)\"]\n",
        "new_df\n",
        "\n",
        "bins = [0, 500, 1000, 2000, 5000, 10000, new_df['Weight (Kilograms)'].max()]                                        # created bins for different weight ranges.\n",
        "labels = ['0-500', '500-1000', '1000-2000', '2000-5000', '5000-10000', '10000+']                                    # label to respective weight range are provided.\n",
        "\n",
        "new_df[\"Weight Range\"] = pd.cut(new_df[\"Weight (Kilograms)\"], bins=bins, labels=labels, include_lowest=True)        # pd.cut() Divides the weight values into the bins.\n",
        "weight_bins = new_df.groupby(\"Weight Range\")[\"Freight Cost (USD)\"].mean().reset_index()\n",
        "weight_bins\n",
        "fig = px.bar(weight_bins, x=\"Weight Range\", y=\"Freight Cost (USD)\", title=\"Freight Cost by Weight Range\", color=\"Weight Range\", labels={\"Freight Cost (USD)\": \"Average Freight Cost (USD)\"})\n",
        "fig.show()\n",
        "\n"
      ],
      "metadata": {
        "id": "GM7a4YP4phqQ"
      },
      "execution_count": null,
      "outputs": []
    },
    {
      "cell_type": "markdown",
      "source": [
        "\n",
        "##### 1. Why did you pick the specific chart?"
      ],
      "metadata": {
        "id": "1M8mcRywphqQ"
      }
    },
    {
      "cell_type": "markdown",
      "source": [
        "We are using barchart to visualize the comparison between different weight range and thier average costs respectively."
      ],
      "metadata": {
        "id": "8agQvks0phqQ"
      }
    },
    {
      "cell_type": "markdown",
      "source": [
        "##### 2. What is/are the insight(s) found from the chart?"
      ],
      "metadata": {
        "id": "tgIPom80phqQ"
      }
    },
    {
      "cell_type": "markdown",
      "source": [
        "1. The \"500-1000\" weight range is the most cost-efficient, with an average freight cost of 6,771 USD, making it the optimal range for shipment consolidation.\n",
        "\n",
        "2. The \"0-500\" weight range follows closely, with an average freight cost of 8,345 USD, suggesting room for improvement in small shipment efficiency.\n",
        "\n",
        "3. Shipments exceeding 10,000 kilograms incur the highest average freight cost at 31,652 USD, indicating inefficiencies in managing heavy loads. USD\""
      ],
      "metadata": {
        "id": "Qp13pnNzphqQ"
      }
    },
    {
      "cell_type": "markdown",
      "source": [
        "##### 3. Will the gained insights help creating a positive business impact?\n",
        "Are there any insights that lead to negative growth? Justify with specific reason."
      ],
      "metadata": {
        "id": "JMzcOPDDphqR"
      }
    },
    {
      "cell_type": "markdown",
      "source": [
        "# 1.\n",
        "##Identifying Cost-Efficient Weight Ranges:\n",
        "\n",
        "The weight range \"500-1000\" has the lowest average freight cost of 6,771 USD, suggesting it is the most cost-efficient range for shipments. Businesses can prioritize optimizing shipments to fit within this weight range where feasible.\n",
        "\n",
        "##Targeting High-Cost Ranges for Cost Reduction:\n",
        "\n",
        "The \"above 10,000\" weight range incurs the highest average freight cost (31,652 USD). This highlights an area where cost management strategies, such as negotiating better rates with logistics partners or improving packing efficiency, can reduce expenses.\n",
        "\n",
        "# 2.\n",
        "##High Freight Costs in Heavier Shipments:\n",
        "\n",
        "The \"above 10,000\" weight range not only has the highest freight costs but could also affect profitability if not properly managed. Customers might seek alternative providers with lower costs for such shipments, leading to potential revenue loss.\n",
        "\n",
        "##Limited Utilization of Cost-Efficient Ranges:\n",
        "\n",
        "If businesses fail to optimize shipments into cost-efficient weight ranges (e.g., \"500-1000\"), they risk overpaying for freight and reducing overall profit margins."
      ],
      "metadata": {
        "id": "R4Ka1PC2phqR"
      }
    },
    {
      "cell_type": "markdown",
      "source": [
        "#### Chart - 11"
      ],
      "metadata": {
        "id": "x-EpHcCOp1ci"
      }
    },
    {
      "cell_type": "code",
      "source": [
        "# Chart - 11 visualization code\n",
        "# 6: Time-Based Analysis\n",
        "# Trend Analysis:\n",
        "# Analyze delivery performance trends over time (e.g., monthly, quarterly). Identify periods with consistent delays (e.g., seasonal trends).\n",
        "\n",
        "delivery_trend = updated_FedEx[[\"Delivered to Client Date\", \"Is On-Time Delivery\"]]\n",
        "\n",
        "# Grouping the data by the month and year of delivery, calculating the mean on-time delivery rate for each period\n",
        "monthly_trend = delivery_trend.groupby(delivery_trend[\"Delivered to Client Date\"].dt.to_period(\"M\"))[\"Is On-Time Delivery\"].mean().reset_index()\n",
        "monthly_trend[\"Delivery_Rate_by_month\"] = round(monthly_trend[\"Is On-Time Delivery\"] * 100, 2)\n",
        "\n",
        "# Converting the \"Delivered to Client Date\" column back to a string for proper display on the x-axis\n",
        "monthly_trend[\"Delivered to Client Date\"] = monthly_trend[\"Delivered to Client Date\"].astype(str)\n",
        "\n",
        "# Creating a line plot using Plotly.\n",
        "fig = px.line(monthly_trend, x = \"Delivered to Client Date\", y = \"Delivery_Rate_by_month\")\n",
        "fig.update_layout(width=1300, height=500, title=\"Delivery Rate by Month\", xaxis_title=\"Months\", yaxis_title=\"Delivery Rate (%)\")\n",
        "fig.show()"
      ],
      "metadata": {
        "id": "mAQTIvtqp1cj"
      },
      "execution_count": null,
      "outputs": []
    },
    {
      "cell_type": "markdown",
      "source": [
        "##### 1. Why did you pick the specific chart?"
      ],
      "metadata": {
        "id": "X_VqEhTip1ck"
      }
    },
    {
      "cell_type": "markdown",
      "source": [
        "We used Line chart to visualize the trend of delivery over the period of month of the year."
      ],
      "metadata": {
        "id": "-vsMzt_np1ck"
      }
    },
    {
      "cell_type": "markdown",
      "source": [
        "##### 2. What is/are the insight(s) found from the chart?"
      ],
      "metadata": {
        "id": "8zGJKyg5p1ck"
      }
    },
    {
      "cell_type": "markdown",
      "source": [
        "1. A 100% of delivery rate can be seen from \"August 2008\" to \"March 2009\".\n",
        "2. There was a huge decline in delivery rate from \"90% to 43%\" during the months of \"September\" and \"October\" in the year 2010.\n",
        "3. From \"June 2012\" onwards the delivery rate was fluctuating between \"99%\" (highest) to \"63%\" (lowest)"
      ],
      "metadata": {
        "id": "ZYdMsrqVp1ck"
      }
    },
    {
      "cell_type": "markdown",
      "source": [
        "##### 3. Will the gained insights help creating a positive business impact?\n",
        "Are there any insights that lead to negative growth? Justify with specific reason."
      ],
      "metadata": {
        "id": "PVzmfK_Ep1ck"
      }
    },
    {
      "cell_type": "markdown",
      "source": [
        "1. There is need to act fast to figure out why deliveries fell so much during those months. Investigate if transportation issues within the country, political unrest, or other reasons are causing delays and making customers unhappy.\n",
        "\n",
        "2. The big drops in deliveries during September and October 2010 need to be addressed quickly. If not fixed, customers might lose trust and stop using the services. There is a need to take steps to prevent long-term problems."
      ],
      "metadata": {
        "id": "druuKYZpp1ck"
      }
    },
    {
      "cell_type": "markdown",
      "source": [
        "#### Chart - 12"
      ],
      "metadata": {
        "id": "n3dbpmDWp1ck"
      }
    },
    {
      "cell_type": "code",
      "source": [
        "# Chart - 12 visualization code\n",
        "# Seasonal Patterns:\n",
        "# Check if specific months or quarters have higher delays or costs."
      ],
      "metadata": {
        "id": "bwevp1tKp1ck"
      },
      "execution_count": null,
      "outputs": []
    },
    {
      "cell_type": "markdown",
      "source": [
        "##### 1. Why did you pick the specific chart?"
      ],
      "metadata": {
        "id": "ylSl6qgtp1ck"
      }
    },
    {
      "cell_type": "markdown",
      "source": [
        "Answer Here."
      ],
      "metadata": {
        "id": "m2xqNkiQp1ck"
      }
    },
    {
      "cell_type": "markdown",
      "source": [
        "##### 2. What is/are the insight(s) found from the chart?"
      ],
      "metadata": {
        "id": "ZWILFDl5p1ck"
      }
    },
    {
      "cell_type": "markdown",
      "source": [
        "Answer Here"
      ],
      "metadata": {
        "id": "x-lUsV2mp1ck"
      }
    },
    {
      "cell_type": "markdown",
      "source": [
        "##### 3. Will the gained insights help creating a positive business impact?\n",
        "Are there any insights that lead to negative growth? Justify with specific reason."
      ],
      "metadata": {
        "id": "M7G43BXep1ck"
      }
    },
    {
      "cell_type": "markdown",
      "source": [
        "Answer Here"
      ],
      "metadata": {
        "id": "5wwDJXsLp1cl"
      }
    },
    {
      "cell_type": "markdown",
      "source": [
        "#### Chart - 13"
      ],
      "metadata": {
        "id": "Ag9LCva-p1cl"
      }
    },
    {
      "cell_type": "code",
      "source": [
        "# Chart - 13 visualization code"
      ],
      "metadata": {
        "id": "EUfxeq9-p1cl"
      },
      "execution_count": null,
      "outputs": []
    },
    {
      "cell_type": "markdown",
      "source": [
        "##### 1. Why did you pick the specific chart?"
      ],
      "metadata": {
        "id": "E6MkPsBcp1cl"
      }
    },
    {
      "cell_type": "markdown",
      "source": [
        "Answer Here."
      ],
      "metadata": {
        "id": "V22bRsFWp1cl"
      }
    },
    {
      "cell_type": "markdown",
      "source": [
        "##### 2. What is/are the insight(s) found from the chart?"
      ],
      "metadata": {
        "id": "2cELzS2fp1cl"
      }
    },
    {
      "cell_type": "markdown",
      "source": [
        "Answer Here"
      ],
      "metadata": {
        "id": "ozQPc2_Ip1cl"
      }
    },
    {
      "cell_type": "markdown",
      "source": [
        "##### 3. Will the gained insights help creating a positive business impact?\n",
        "Are there any insights that lead to negative growth? Justify with specific reason."
      ],
      "metadata": {
        "id": "3MPXvC8up1cl"
      }
    },
    {
      "cell_type": "markdown",
      "source": [
        "Answer Here"
      ],
      "metadata": {
        "id": "GL8l1tdLp1cl"
      }
    },
    {
      "cell_type": "markdown",
      "source": [
        "#### Chart - 14 - Correlation Heatmap"
      ],
      "metadata": {
        "id": "NC_X3p0fY2L0"
      }
    },
    {
      "cell_type": "code",
      "source": [
        "# Correlation Heatmap visualization code"
      ],
      "metadata": {
        "id": "xyC9zolEZNRQ"
      },
      "execution_count": null,
      "outputs": []
    },
    {
      "cell_type": "markdown",
      "source": [
        "##### 1. Why did you pick the specific chart?"
      ],
      "metadata": {
        "id": "UV0SzAkaZNRQ"
      }
    },
    {
      "cell_type": "markdown",
      "source": [
        "Answer Here."
      ],
      "metadata": {
        "id": "DVPuT8LYZNRQ"
      }
    },
    {
      "cell_type": "markdown",
      "source": [
        "##### 2. What is/are the insight(s) found from the chart?"
      ],
      "metadata": {
        "id": "YPEH6qLeZNRQ"
      }
    },
    {
      "cell_type": "markdown",
      "source": [
        "Answer Here"
      ],
      "metadata": {
        "id": "bfSqtnDqZNRR"
      }
    },
    {
      "cell_type": "markdown",
      "source": [
        "#### Chart - 15 - Pair Plot"
      ],
      "metadata": {
        "id": "q29F0dvdveiT"
      }
    },
    {
      "cell_type": "code",
      "source": [
        "# Pair Plot visualization code"
      ],
      "metadata": {
        "id": "o58-TEIhveiU"
      },
      "execution_count": null,
      "outputs": []
    },
    {
      "cell_type": "markdown",
      "source": [
        "##### 1. Why did you pick the specific chart?"
      ],
      "metadata": {
        "id": "EXh0U9oCveiU"
      }
    },
    {
      "cell_type": "markdown",
      "source": [
        "Answer Here."
      ],
      "metadata": {
        "id": "eMmPjTByveiU"
      }
    },
    {
      "cell_type": "markdown",
      "source": [
        "##### 2. What is/are the insight(s) found from the chart?"
      ],
      "metadata": {
        "id": "22aHeOlLveiV"
      }
    },
    {
      "cell_type": "markdown",
      "source": [
        "Answer Here"
      ],
      "metadata": {
        "id": "uPQ8RGwHveiV"
      }
    },
    {
      "cell_type": "markdown",
      "source": [
        "## **5. Solution to Business Objective**"
      ],
      "metadata": {
        "id": "JcMwzZxoAimU"
      }
    },
    {
      "cell_type": "markdown",
      "source": [
        "#### What do you suggest the client to achieve Business Objective ?\n",
        "Explain Briefly."
      ],
      "metadata": {
        "id": "8G2x9gOozGDZ"
      }
    },
    {
      "cell_type": "markdown",
      "source": [
        "##1. Enhance Vendor Management:\n",
        "* Focus on underperforming vendors by setting performance benchmarks and offering targeted support. Strengthen partnerships with consistently high-performing vendors to maintain reliability.\n",
        "\n",
        "##2. Optimize Freight Costs:\n",
        "* Encourage shipment consolidation within the \"500-1000\" weight range to leverage its cost-efficiency.\n",
        "\n",
        "* Negotiate better freight rates for shipments exceeding 10,000 kilograms by partnering with carriers that specialize in bulk transportation.\n",
        "\n",
        "##3. Address Regional Challenges:\n",
        "* Investigate and resolve high freight costs in regions like Cameroon and Nigeria by analyzing local logistics constraints and exploring alternate shipping routes or providers.\n",
        "\n",
        "* Develop region-specific strategies to mitigate delivery delays, such as optimizing last-mile delivery processes and enhancing local distribution networks.\n",
        "\n",
        "##4. Streamline Heavy Shipment Processes:\n",
        "* Implement improved logistics for handling heavier shipments to mitigate delays, such as specialized equipment, better packaging, and enhanced carrier coordination.\n",
        "\n",
        "* Monitor and evaluate the performance of these changes regularly to ensure effectiveness."
      ],
      "metadata": {
        "id": "pASKb0qOza21"
      }
    },
    {
      "cell_type": "markdown",
      "source": [
        "# **Conclusion**"
      ],
      "metadata": {
        "id": "gCX9965dhzqZ"
      }
    },
    {
      "cell_type": "markdown",
      "source": [
        "The FedEx Logistic Performance Analysis has highlighted critical areas for improvement in delivery performance, vendor consistency, and freight cost management. By implementing the recommended strategies, FedEx can achieve greater operational efficiency, reduce costs, and enhance customer satisfaction, ultimately driving positive business outcomes.\n",
        "\n"
      ],
      "metadata": {
        "id": "Fjb1IsQkh3yE"
      }
    },
    {
      "cell_type": "markdown",
      "source": [
        "### ***Hurrah! You have successfully completed your EDA Capstone Project !!!***"
      ],
      "metadata": {
        "id": "gIfDvo9L0UH2"
      }
    }
  ]
}