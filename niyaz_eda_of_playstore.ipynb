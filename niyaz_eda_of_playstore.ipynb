{
  "nbformat": 4,
  "nbformat_minor": 0,
  "metadata": {
    "colab": {
      "private_outputs": true,
      "provenance": [],
      "collapsed_sections": [
        "FJNUwmbgGyua",
        "PBTbrJXOngz2",
        "MSa1f5Uengrz",
        "lQ7QKXXCp7Bj",
        "ijmpgYnKYklI",
        "85gYPyotYoAp",
        "RoGjAbkUYoAp",
        "iky9q4vBYrdO",
        "F6T5p64dYrdO",
        "QHF8YVU7Yuh3",
        "GwzvFGzlYuh3",
        "qYpmQ266Yuh3",
        "OH-pJp9IphqM",
        "bbFf2-_FphqN",
        "_ouA3fa0phqN",
        "Seke61FWphqN",
        "PIIx-8_IphqN",
        "t27r6nlMphqO",
        "r2jJGEOYphqO",
        "b0JNsNcRphqO",
        "BZR9WyysphqO",
        "jj7wYXLtphqO",
        "eZrbJ2SmphqO",
        "rFu4xreNphqO",
        "YJ55k-q6phqO",
        "gCFgpxoyphqP",
        "OVtJsKN_phqQ",
        "lssrdh5qphqQ",
        "U2RJ9gkRphqQ",
        "1M8mcRywphqQ",
        "tgIPom80phqQ",
        "JMzcOPDDphqR",
        "x-EpHcCOp1ci",
        "X_VqEhTip1ck",
        "8zGJKyg5p1ck",
        "PVzmfK_Ep1ck",
        "n3dbpmDWp1ck",
        "ylSl6qgtp1ck",
        "ZWILFDl5p1ck",
        "M7G43BXep1ck",
        "Ag9LCva-p1cl",
        "E6MkPsBcp1cl",
        "2cELzS2fp1cl",
        "3MPXvC8up1cl",
        "NC_X3p0fY2L0",
        "UV0SzAkaZNRQ",
        "YPEH6qLeZNRQ",
        "q29F0dvdveiT",
        "EXh0U9oCveiU",
        "22aHeOlLveiV",
        "8G2x9gOozGDZ",
        "gIfDvo9L0UH2"
      ],
      "cell_execution_strategy": "setup",
      "include_colab_link": true
    },
    "kernelspec": {
      "name": "python3",
      "display_name": "Python 3"
    },
    "language_info": {
      "name": "python"
    }
  },
  "cells": [
    {
      "cell_type": "markdown",
      "metadata": {
        "id": "view-in-github",
        "colab_type": "text"
      },
      "source": [
        "<a href=\"https://colab.research.google.com/github/niy44z/Module-2-Project/blob/main/niyaz_eda_of_playstore.ipynb\" target=\"_parent\"><img src=\"https://colab.research.google.com/assets/colab-badge.svg\" alt=\"Open In Colab\"/></a>"
      ]
    },
    {
      "cell_type": "code",
      "source": [],
      "metadata": {
        "id": "orb0Mm1h22xq"
      },
      "execution_count": null,
      "outputs": []
    },
    {
      "cell_type": "markdown",
      "source": [
        "# **Project Name**    - Play Store App Review Analysis\n",
        "\n"
      ],
      "metadata": {
        "id": "vncDsAP0Gaoa"
      }
    },
    {
      "cell_type": "markdown",
      "source": [
        "\\##### **Project Type**    - EDA\n",
        "##### **Contribution**    - Individual\n",
        "##### **Member  -**       - Niyaz Muddebihal\n"
      ],
      "metadata": {
        "id": "beRrZCGUAJYm"
      }
    },
    {
      "cell_type": "markdown",
      "source": [
        "# **Project Summary -**"
      ],
      "metadata": {
        "id": "FJNUwmbgGyua"
      }
    },
    {
      "cell_type": "markdown",
      "source": [
        "This project delves into the vast landscape of mobile applications available on the Google Play Store, aiming to extract meaningful insights from app reviews and associated data.  The primary objective is to understand the factors influencing user ratings and reviews, ultimately providing actionable recommendations for developers seeking to improve app quality and user engagement.\n",
        "\n",
        "The project employs a comprehensive data analysis approach, beginning with Exploratory Data Analysis (EDA). EDA forms the foundation of the project, where we examine the distribution of key variables, identify patterns, and detect anomalies within the dataset. This stage involves visualizing the relationships between various features like app category, rating, price, reviews, size, and content rating.  Through histograms, box plots, scatter plots, and correlation matrices, we aim to uncover initial trends and correlations.  For instance, we might observe a relationship between the number of downloads and the average user rating or identify specific categories with consistently higher or lower ratings.\n",
        "\n",
        "Beyond EDA, the project will explore several potential avenues of analysis depending on the chosen direction (Regression, Classification, or Unsupervised learning).  One possibility is building a regression model to predict app ratings based on a combination of features.  This model could then be used to identify crucial elements that significantly impact user satisfaction.  Alternatively, a classification model could be employed to categorize apps into different groups (e.g., high-rated vs. low-rated), enabling developers to learn from the characteristics of successful apps.  The choice of model will depend on the specific insights we wish to obtain and the nature of the data.\n",
        "\n",
        "For example, if a classification approach is selected, we might explore techniques like logistic regression, support vector machines, or decision trees.  The performance of these models will be rigorously evaluated using appropriate metrics such as accuracy, precision, recall, and F1-score. We will also employ cross-validation to ensure the model's generalizability and minimize overfitting to the training data.  Feature engineering, an essential aspect of the project, will involve creating new features from existing ones to improve the model's predictive power. This might involve combining categories, creating interaction terms, or transforming numerical features into categorical representations.\n",
        "\n",
        "In the case of an unsupervised learning approach, techniques like clustering could be employed to segment the app market into different groups based on similar characteristics.  This could reveal hidden patterns and market segments that were not immediately apparent from the initial analysis.  The results of clustering could provide developers with insights into competitive landscapes and help them identify unique opportunities.  Visualization plays a crucial role in presenting the results from clustering, enabling a clear understanding of the identified groups.\n",
        "\n",
        "Ultimately, this project aims to provide actionable recommendations for app developers. These recommendations could involve optimizing app features, improving in-app experiences, or targeting specific user groups based on the insights gleaned from the data analysis.  By combining exploratory analysis, predictive modeling, and insightful visualizations, we aim to shed light on the complex dynamics of the app market and equip developers with the tools they need to succeed.\n"
      ],
      "metadata": {
        "id": "F6v_1wHtG2nS"
      }
    },
    {
      "cell_type": "markdown",
      "source": [
        "# **GitHub Link -**https://github.com/niy44z/Module-2-Project/blob/main/niyaz_eda_of_playstore.ipynb"
      ],
      "metadata": {
        "id": "w6K7xa23Elo4"
      }
    },
    {
      "cell_type": "code",
      "source": [],
      "metadata": {
        "id": "Sb3bficP6cJH"
      },
      "execution_count": null,
      "outputs": []
    },
    {
      "cell_type": "markdown",
      "source": [],
      "metadata": {
        "id": "kLxZ9bB76cvy"
      }
    },
    {
      "cell_type": "markdown",
      "source": [
        "Provide your GitHub Link here."
      ],
      "metadata": {
        "id": "h1o69JH3Eqqn"
      }
    },
    {
      "cell_type": "markdown",
      "source": [
        "# **Problem Statement**\n"
      ],
      "metadata": {
        "id": "yQaldy8SH6Dl"
      }
    },
    {
      "cell_type": "markdown",
      "source": [
        "# **General Guidelines** : -  "
      ],
      "metadata": {
        "id": "mDgbUHAGgjLW"
      }
    },
    {
      "cell_type": "markdown",
      "source": [
        "1.   Well-structured, formatted, and commented code is required.\n",
        "2.   Exception Handling, Production Grade Code & Deployment Ready Code will be a plus. Those students will be awarded some additional credits.\n",
        "     \n",
        "     The additional credits will have advantages over other students during Star Student selection.\n",
        "       \n",
        "             [ Note: - Deployment Ready Code is defined as, the whole .ipynb notebook should be executable in one go\n",
        "                       without a single error logged. ]\n",
        "\n",
        "3.   Each and every logic should have proper comments.\n",
        "4. You may add as many number of charts you want. Make Sure for each and every chart the following format should be answered.\n",
        "        \n",
        "\n",
        "```\n",
        "# Chart visualization code\n",
        "```\n",
        "            \n",
        "\n",
        "*   Why did you pick the specific chart?\n",
        "*   What is/are the insight(s) found from the chart?\n",
        "* Will the gained insights help creating a positive business impact?\n",
        "Are there any insights that lead to negative growth? Justify with specific reason.\n",
        "\n",
        "5. You have to create at least 20 logical & meaningful charts having important insights.\n",
        "\n",
        "\n",
        "[ Hints : - Do the Vizualization in  a structured way while following \"UBM\" Rule.\n",
        "\n",
        "U - Univariate Analysis,\n",
        "\n",
        "B - Bivariate Analysis (Numerical - Categorical, Numerical - Numerical, Categorical - Categorical)\n",
        "\n",
        "M - Multivariate Analysis\n",
        " ]\n",
        "\n",
        "\n",
        "\n"
      ],
      "metadata": {
        "id": "ZrxVaUj-hHfC"
      }
    },
    {
      "cell_type": "markdown",
      "source": [
        "#### **Define Your Business Objective?**"
      ],
      "metadata": {
        "id": "PH-0ReGfmX4f"
      }
    },
    {
      "cell_type": "markdown",
      "source": [
        "To identify key factors influencing user ratings and reviews of mobile applications on the Google Play Store, enabling developers to improve app quality, user engagement, and ultimately, app success."
      ],
      "metadata": {
        "id": "PhDvGCAqmjP1"
      }
    },
    {
      "cell_type": "markdown",
      "source": [
        "**Write Problem Statement Here.**"
      ],
      "metadata": {
        "id": "DpeJGUA3kjGy"
      }
    },
    {
      "cell_type": "markdown",
      "source": [
        "# ***Let's Begin !***"
      ],
      "metadata": {
        "id": "O_i_v8NEhb9l"
      }
    },
    {
      "cell_type": "markdown",
      "source": [
        "## ***1. Know Your Data***"
      ],
      "metadata": {
        "id": "HhfV-JJviCcP"
      }
    },
    {
      "cell_type": "markdown",
      "source": [
        "### Import Libraries"
      ],
      "metadata": {
        "id": "Y3lxredqlCYt"
      }
    },
    {
      "cell_type": "code",
      "source": [
        "# Import Libraries\n",
        "import pandas as pd\n",
        "import numpy as np\n",
        "import matplotlib.pyplot as plt\n",
        "import seaborn as sb"
      ],
      "metadata": {
        "id": "M8Vqi-pPk-HR"
      },
      "execution_count": null,
      "outputs": []
    },
    {
      "cell_type": "markdown",
      "source": [
        "### Dataset Loading"
      ],
      "metadata": {
        "id": "3RnN4peoiCZX"
      }
    },
    {
      "cell_type": "code",
      "source": [
        "# Load Dataset"
      ],
      "metadata": {
        "id": "4CkvbW_SlZ_R"
      },
      "execution_count": null,
      "outputs": []
    },
    {
      "cell_type": "markdown",
      "source": [
        "### Dataset First View"
      ],
      "metadata": {
        "id": "x71ZqKXriCWQ"
      }
    },
    {
      "cell_type": "code",
      "source": [
        "# Mounting Drive\n",
        "from google.colab import drive\n",
        "drive.mount('/content/drive')"
      ],
      "metadata": {
        "id": "pqRu6ZyxxFAo"
      },
      "execution_count": null,
      "outputs": []
    },
    {
      "cell_type": "code",
      "source": [
        "# Dataset First Look\n",
        "df=pd.read_csv('/content/drive/MyDrive/Play Store Data.csv')\n",
        "df1=pd.read_csv('/content/drive/MyDrive/User Reviews.csv')\n",
        "df.head(1)"
      ],
      "metadata": {
        "id": "LWNFOSvLl09H"
      },
      "execution_count": null,
      "outputs": []
    },
    {
      "cell_type": "code",
      "source": [
        "df1.head(1)"
      ],
      "metadata": {
        "id": "z_xq6artxdlQ"
      },
      "execution_count": null,
      "outputs": []
    },
    {
      "cell_type": "code",
      "source": [
        "# Merge both the dataset\n",
        "dff = pd.merge(df, df1, left_on='App', right_on='App', how='inner')\n",
        "dff.head()\n"
      ],
      "metadata": {
        "id": "EroUmDEGxjpO"
      },
      "execution_count": null,
      "outputs": []
    },
    {
      "cell_type": "markdown",
      "source": [
        "### Dataset Rows & Columns count"
      ],
      "metadata": {
        "id": "7hBIi_osiCS2"
      }
    },
    {
      "cell_type": "code",
      "source": [
        "# Dataset Rows & Columns count\n",
        "dff.shape\n"
      ],
      "metadata": {
        "id": "Kllu7SJgmLij"
      },
      "execution_count": null,
      "outputs": []
    },
    {
      "cell_type": "markdown",
      "source": [
        "### Dataset Information"
      ],
      "metadata": {
        "id": "JlHwYmJAmNHm"
      }
    },
    {
      "cell_type": "code",
      "source": [
        "# Dataset Info\n",
        "dff.info()"
      ],
      "metadata": {
        "id": "e9hRXRi6meOf"
      },
      "execution_count": null,
      "outputs": []
    },
    {
      "cell_type": "markdown",
      "source": [
        "#### Duplicate Values"
      ],
      "metadata": {
        "id": "35m5QtbWiB9F"
      }
    },
    {
      "cell_type": "code",
      "source": [
        "# Dataset Duplicate Value Count\n",
        "dff.duplicated().count()"
      ],
      "metadata": {
        "id": "1sLdpKYkmox0"
      },
      "execution_count": null,
      "outputs": []
    },
    {
      "cell_type": "markdown",
      "source": [
        "#### Missing Values/Null Values"
      ],
      "metadata": {
        "id": "PoPl-ycgm1ru"
      }
    },
    {
      "cell_type": "code",
      "source": [
        "# Missing Values/Null Values Count\n",
        "dff.isnull().sum()"
      ],
      "metadata": {
        "id": "GgHWkxvamxVg"
      },
      "execution_count": null,
      "outputs": []
    },
    {
      "cell_type": "code",
      "source": [
        "# Visualizing the missing values\n",
        "plt.figure(figsize=(10, 8))\n",
        "sb.heatmap(dff.isnull(), cbar=True, cmap='viridis')\n",
        "plt.title('Missing Values Heatmap')\n",
        "plt.show()\n",
        "\n",
        "# Bar plot of missing values\n",
        "plt.figure(figsize=(12, 6))  # Set figure size\n",
        "dff.isnull().sum().sort_values(ascending=False).plot(kind='bar', color='coral')\n",
        "plt.title('Missing Values Count')\n",
        "plt.xlabel('Columns')\n",
        "plt.ylabel('Number of Missing Values')\n",
        "plt.xticks(rotation=45)  # Rotate labels for better readability\n",
        "plt.show()\n"
      ],
      "metadata": {
        "id": "3q5wnI3om9sJ"
      },
      "execution_count": null,
      "outputs": []
    },
    {
      "cell_type": "markdown",
      "source": [
        "### What did you know about your dataset?"
      ],
      "metadata": {
        "id": "H0kj-8xxnORC"
      }
    },
    {
      "cell_type": "markdown",
      "source": [
        " Answer Here -> ihave merged dataset named dff which consist (122662 rows, 17columns) and when i check for duplicates i found 122662 values and Translated_Review, Sentiment, Sentiment_Polarity, Sentiment_Subjectivity contains null values more than 50000"
      ],
      "metadata": {
        "id": "gfoNAAC-nUe_"
      }
    },
    {
      "cell_type": "markdown",
      "source": [
        "## ***2. Understanding Your Variables***"
      ],
      "metadata": {
        "id": "nA9Y7ga8ng1Z"
      }
    },
    {
      "cell_type": "code",
      "source": [
        "# Dataset Columns\n",
        "dff.columns"
      ],
      "metadata": {
        "id": "j7xfkqrt5Ag5"
      },
      "execution_count": null,
      "outputs": []
    },
    {
      "cell_type": "code",
      "source": [
        "# Dataset Describe\n",
        "dff.describe()"
      ],
      "metadata": {
        "id": "DnOaZdaE5Q5t"
      },
      "execution_count": null,
      "outputs": []
    },
    {
      "cell_type": "markdown",
      "source": [
        "### Variables Description"
      ],
      "metadata": {
        "id": "PBTbrJXOngz2"
      }
    },
    {
      "cell_type": "markdown",
      "source": [
        "Answer Here"
      ],
      "metadata": {
        "id": "aJV4KIxSnxay"
      }
    },
    {
      "cell_type": "markdown",
      "source": [
        "### Check Unique Values for each variable."
      ],
      "metadata": {
        "id": "u3PMJOP6ngxN"
      }
    },
    {
      "cell_type": "code",
      "source": [
        "# Check Unique Values for each variable.\n",
        "dff.nunique()"
      ],
      "metadata": {
        "id": "zms12Yq5n-jE"
      },
      "execution_count": null,
      "outputs": []
    },
    {
      "cell_type": "markdown",
      "source": [
        "## 3. ***Data Wrangling***"
      ],
      "metadata": {
        "id": "dauF4eBmngu3"
      }
    },
    {
      "cell_type": "markdown",
      "source": [
        "### Data Wrangling Code"
      ],
      "metadata": {
        "id": "bKJF3rekwFvQ"
      }
    },
    {
      "cell_type": "code",
      "source": [
        "# Visualizing Missing Values\n",
        "plt.figure(figsize=(12,6))\n",
        "sb.heatmap(dff.isnull(), cmap='viridis', cbar=False, yticklabels=False)\n",
        "plt.title(\"Missing Values Heatmap\")\n",
        "plt.show()\n",
        "\n",
        "# Data Cleaning\n",
        "dff.dropna(subset=['Rating'], inplace=True)\n",
        "\n",
        "# Fix for mode-based filling\n",
        "fill_mode_cols = ['Size', 'Installs', 'Type', 'Content Rating', 'Android Ver', 'Current Ver', 'Sentiment']\n",
        "for col in fill_mode_cols:\n",
        "    dff[col] = dff[col].fillna(dff[col].mode()[0])\n",
        "\n",
        "# Fix for median-based filling\n",
        "fill_median_cols = ['Sentiment_Polarity', 'Sentiment_Subjectivity', 'Reviews']\n",
        "for col in fill_median_cols:\n",
        "    dff[col] = pd.to_numeric(dff[col], errors='coerce')  # Convert to numeric first\n",
        "    dff[col] = dff[col].fillna(dff[col].median())\n",
        "\n",
        "# Fix for Price column\n",
        "dff['Price'] = dff['Price'].fillna(0)\n",
        "\n",
        "# Fix for Reviews column\n",
        "dff['Reviews'] = pd.to_numeric(dff['Reviews'], errors='coerce')\n",
        "dff['Reviews'] = dff['Reviews'].fillna(dff['Reviews'].median())\n",
        "dff['Installs'] = dff['Installs'].astype(str).str.replace(r'[+,]', '', regex=True).astype(float)\n",
        "dff['Price'] = dff['Price'].astype(str).str.replace(r'\\$', '', regex=True).astype(float)\n",
        "\n",
        "dff.dropna(subset=['Translated_Review'], inplace=True)\n",
        "\n",
        "print(\"Remaining missing values per column:\\n\", dff.isnull().sum())\n",
        "\n",
        "dff.to_csv(\"cleaned_playstore_data.csv\", index=False)\n",
        "print(\"Cleaned dataset saved successfully.\")\n",
        "\n",
        "\n",
        "\n",
        "\n",
        "\n",
        "\n",
        "\n",
        "\n",
        "\n",
        "\n",
        "\n"
      ],
      "metadata": {
        "id": "wk-9a2fpoLcV"
      },
      "execution_count": null,
      "outputs": []
    },
    {
      "cell_type": "markdown",
      "source": [
        "### What all manipulations have you done and insights you found?"
      ],
      "metadata": {
        "id": "MSa1f5Uengrz"
      }
    },
    {
      "cell_type": "markdown",
      "source": [
        "Answer Here."
      ],
      "metadata": {
        "id": "LbyXE7I1olp8"
      }
    },
    {
      "cell_type": "markdown",
      "source": [
        "## ***4. Data Vizualization, Storytelling & Experimenting with charts : Understand the relationships between variables***"
      ],
      "metadata": {
        "id": "GF8Ens_Soomf"
      }
    },
    {
      "cell_type": "markdown",
      "source": [
        "#### Chart - 1"
      ],
      "metadata": {
        "id": "0wOQAZs5pc--"
      }
    },
    {
      "cell_type": "code",
      "source": [
        "# Visualization 1: App Category Distribution\n",
        "plt.figure(figsize=(12, 6))\n",
        "dff['Category'].value_counts().plot(kind='bar', color='skyblue')\n",
        "plt.title(\"App Distribution by Category\")\n",
        "plt.xlabel(\"Category\")\n",
        "plt.ylabel(\"Count\")\n",
        "plt.xticks(rotation=90)\n",
        "plt.show()\n"
      ],
      "metadata": {
        "id": "7v_ESjsspbW7"
      },
      "execution_count": null,
      "outputs": []
    },
    {
      "cell_type": "markdown",
      "source": [
        "##### 1. Why did you pick the specific chart?"
      ],
      "metadata": {
        "id": "K5QZ13OEpz2H"
      }
    },
    {
      "cell_type": "markdown",
      "source": [
        "The bar chart was chosen for \"App Category Distribution\" because:\n",
        "\n",
        "Categorical Data Representation – The \"Category\" column contains distinct app categories, making a bar chart the best option to show frequency distribution.\n",
        "Comparison Across Categories – It allows easy comparison of app counts in each category.\n",
        "Clarity & Simplicity – The chart provides a straightforward visual of the most and least populated categories.\n",
        "Readability – Unlike pie charts, bar charts prevent clutter when displaying many categories."
      ],
      "metadata": {
        "id": "XESiWehPqBRc"
      }
    },
    {
      "cell_type": "markdown",
      "source": [
        "##### 2. What is/are the insight(s) found from the chart?"
      ],
      "metadata": {
        "id": "lQ7QKXXCp7Bj"
      }
    },
    {
      "cell_type": "markdown",
      "source": [
        "Most Popular Categories – The chart highlights which app categories dominate the Play Store in terms of count. Categories like \"Family,\" \"Games,\" and \"Tools\" often have the highest number of apps.\n",
        "Least Popular Categories – Some categories, such as \"Medical,\" \"Business,\" or \"Events,\" may have fewer apps, suggesting niche market opportunities.\n",
        "Market Trends – A high number of apps in a category indicates competition, while lower numbers may suggest untapped potential.\n",
        "Potential Monetization Strategy – Developers can analyze which categories have fewer free apps and consider creating paid apps in those spa"
      ],
      "metadata": {
        "id": "C_j1G7yiqdRP"
      }
    },
    {
      "cell_type": "markdown",
      "source": [
        "Yes, the gained insights can help create a positive business impact in several ways:\n",
        "\n",
        "Strategic App Development – By identifying high-competition and low-competition categories, businesses can choose to develop apps in less saturated but potentially profitable niches.\n",
        "Targeted Marketing & Investment – If a category has high app volume but low user engagement (installs/reviews), companies can refine their marketing strategy to stand out.\n",
        "Revenue Optimization – The Price Distribution chart can guide businesses on whether to offer free apps, freemium models, or premium-priced apps based on user expectations.\n",
        "Competitor Benchmarking – The Top 10 Most Installed Apps analysis helps businesses understand what features or strategies contribute to an app's success.\n",
        "User Engagement Insights – Correlating ratings, reviews, and installs can help in improving user experience, leading to higher retention rates."
      ],
      "metadata": {
        "id": "448CDAPjqfQr"
      }
    },
    {
      "cell_type": "markdown",
      "source": [
        "Yes, understanding the distribution of app ratings can significantly impact business decisions.\n",
        "\n",
        " Positive Impact:\n",
        "  **Product Improvement:** A skewed distribution towards lower ratings indicates areas for improvement in the app's functionality, user interface, or performance.  By identifying common pain points associated with low ratings, developers can prioritize improvements to enhance user experience and increase satisfaction. This can lead to better user retention and positive reviews.\n",
        " **Marketing and Promotion:**  A high concentration of ratings around a specific score can be used in marketing campaigns. For example, if most users rate an app 4.5 out of 5, this could be highlighted in advertising materials.\n",
        "  **Resource Allocation:**  Insights from the distribution of ratings help developers determine where to focus their efforts.  If the majority of users provide lower ratings, more resources can be allocated to improving the app rather than expanding features that do not directly address core issues.\n",
        "\n",
        " Negative Growth:\n",
        " **Low Average Rating:**  A consistently low average rating can negatively impact an app's visibility on app stores. Lower rankings lead to less discoverability, reducing the number of downloads and users, which can ultimately hurt revenue.\n",
        " **Negative Reviews and Feedback:**  A concentration of low ratings is often accompanied by negative user reviews.  If these reviews are not addressed, they can create a negative perception of the app, deterring potential users. This can trigger a downward spiral of ratings and reviews.\n",
        " **User Churn:**  Low ratings often correlate with user churn.  Users who are dissatisfied with an app are more likely to uninstall it, leading to a loss of users and potentially impacting revenue streams from in-app purchases or advertisements.  Understanding the reasons behind low ratings is crucial for minimizing churn.\n",
        "\n",
        " In summary, app rating analysis is vital for app developers.  A data-driven approach, using visualizations like histograms and considering associated user reviews, allows developers to identify opportunities for improvement and to address critical issues that could lead to negative growth.  Addressing issues proactively helps to avoid damaging impacts on the app's reputation, visibility, and user base."
      ],
      "metadata": {
        "id": "3cspy4FjqxJW"
      }
    },
    {
      "cell_type": "markdown",
      "source": [
        "#### Chart - 2"
      ],
      "metadata": {
        "id": "KSlN3yHqYklG"
      }
    },
    {
      "cell_type": "code",
      "source": [
        "# Visualization 2: Rating Distribution\n",
        "plt.figure(figsize=(10, 5))\n",
        "sb.histplot(dff['Rating'], bins=30, kde=True, color='orange')\n",
        "plt.title(\"Rating Distribution\")\n",
        "plt.xlabel(\"Rating\")\n",
        "plt.ylabel(\"Frequency\")\n",
        "plt.show()"
      ],
      "metadata": {
        "id": "R4YgtaqtYklH"
      },
      "execution_count": null,
      "outputs": []
    },
    {
      "cell_type": "markdown",
      "source": [
        "##### 1. Why did you pick the specific chart?"
      ],
      "metadata": {
        "id": "t6dVpIINYklI"
      }
    },
    {
      "cell_type": "markdown",
      "source": [
        "Understanding User Satisfaction – The distribution of ratings helps identify whether users generally rate apps positively or negatively.\n",
        "Identifying Trends – If most ratings cluster around 4-5, it suggests high overall satisfaction, while a spread of ratings indicates mixed user experiences.\n",
        "Detecting Outliers – A large number of low ratings may indicate frequent user dissatisfaction, which businesses should investigate.\n",
        "Impact on Revenue – High-rated apps tend to attract more downloads and purchases, so understanding rating distribution helps in app improvement strategies.\n",
        "Kernel Density Estimation (KDE) – The KDE curve provides a smooth estimate of the rating distribution, making it easier to visualize patterns."
      ],
      "metadata": {
        "id": "5aaW0BYyYklI"
      }
    },
    {
      "cell_type": "markdown",
      "source": [
        "##### 2. What is/are the insight(s) found from the chart?"
      ],
      "metadata": {
        "id": "ijmpgYnKYklI"
      }
    },
    {
      "cell_type": "markdown",
      "source": [
        "Most Apps Have High Ratings (4.0 - 5.0)\n",
        "\n",
        "The majority of apps have ratings clustered around 4.0 to 5.0, indicating general user satisfaction.\n",
        "This suggests that high-quality apps dominate the store, with fewer poorly rated ones.\n",
        "Fewer Low-Rated Apps (Below 3.0)\n",
        "\n",
        "There are very few apps with ratings below 3.0, showing that low-rated apps either improve over time or get removed.\n",
        "Possible Skewness in Ratings\n",
        "\n",
        "If the histogram is right-skewed, it means most apps are highly rated, but a small number pull the average down.\n",
        "If there are multiple peaks, it could indicate different app categories have varying rating patterns.\n",
        "Business Impact\n",
        "\n",
        "Apps with high ratings attract more downloads and user trust.\n",
        "If an app has below-average ratings, improving user experience, functionality, or customer support is crucial."
      ],
      "metadata": {
        "id": "PSx9atu2YklI"
      }
    },
    {
      "cell_type": "markdown",
      "source": [
        "##### 3. Will the gained insights help creating a positive business impact?\n",
        "Are there any insights that lead to negative growth? Justify with specific reason."
      ],
      "metadata": {
        "id": "-JiQyfWJYklI"
      }
    },
    {
      "cell_type": "markdown",
      "source": [
        "Yes! The insights gained from the Rating Distribution chart can significantly impact business strategy in several ways:\n",
        "\n",
        "Quality Control & Competitive Benchmarking\n",
        "\n",
        "Identifying the average rating trend helps businesses understand the expected quality level for successful apps.\n",
        "If an app’s rating is below the industry average, it signals the need for feature improvements, bug fixes, or better customer support.\n",
        "User Engagement & Retention Strategies\n",
        "\n",
        "Apps with lower ratings tend to have higher uninstall rates.\n",
        "Companies can use these insights to analyze negative reviews and enhance user experience.\n",
        "Marketing & Monetization Decisions\n",
        "\n",
        "Highly-rated apps gain more organic downloads as they rank higher in search results.\n",
        "Businesses can prioritize promotions or advertisements for high-rated apps while working on improvements for lower-rated ones.\n",
        "New App Development Strategy\n",
        "\n",
        "If certain app categories have consistently high ratings, developers can invest in similar categories for higher success rates.\n",
        "Understanding rating trends helps shape pricing strategies, app features, and customer engagement tactics.\n",
        "\n",
        "\n",
        "Yes, several insights from the visualizations could indicate potential negative growth for certain apps or categories. Here are specific examples:\n",
        "\n",
        "Low Average Ratings (From the Rating Distribution Chart)\n",
        "\n",
        "If a significant portion of apps has ratings below 3.5, it suggests user dissatisfaction, which may lead to low retention rates and decreased revenue.\n",
        "Justification: Low-rated apps tend to have lower installs, higher uninstall rates, and negative reviews, impacting app store ranking.\n",
        "High Competition in Certain Categories (From the App Category Distribution Chart)\n",
        "\n",
        "If some categories (e.g., Gaming, Productivity) are oversaturated, new apps in these categories may struggle to gain visibility.\n",
        "Justification: If an app is in a highly competitive category but lacks strong differentiation (features, UI, or performance), it may struggle to grow.\n",
        "Mismatch Between Installs and Reviews (From the Reviews vs. Installs Scatter Plot)\n",
        "\n",
        "If an app has high installs but very few reviews, it may indicate low user engagement or negative sentiment, leading to stagnation.\n",
        "Justification: Apps that don't encourage feedback may struggle to improve based on user preferences, affecting long-term growth.\n",
        "High Price Points with Low Demand (From the Price Distribution Box Plot)\n",
        "\n",
        "If premium apps (high-priced apps) have low downloads compared to free apps, it signals pricing inefficiencies.\n",
        "Justification: Users prefer free apps with in-app purchases over expensive upfront costs, leading to poor sales for costly apps."
      ],
      "metadata": {
        "id": "BcBbebzrYklV"
      }
    },
    {
      "cell_type": "markdown",
      "source": [
        "#### Chart - 3"
      ],
      "metadata": {
        "id": "EM7whBJCYoAo"
      }
    },
    {
      "cell_type": "code",
      "source": [
        "# Visualization 3: Reviews vs. Installs (Scatter Plot)\n",
        "plt.figure(figsize=(10, 6))\n",
        "sb.scatterplot(x=dff['Installs'], y=dff['Reviews'], alpha=0.5)\n",
        "plt.xscale('log')\n",
        "plt.yscale('log')\n",
        "plt.title(\"Number of Reviews vs. Installs\")\n",
        "plt.xlabel(\"Installs (log scale)\")\n",
        "plt.ylabel(\"Reviews (log scale)\")\n",
        "plt.show()"
      ],
      "metadata": {
        "id": "t6GMdE67YoAp"
      },
      "execution_count": null,
      "outputs": []
    },
    {
      "cell_type": "markdown",
      "source": [
        "##### 1. Why did you pick the specific chart?"
      ],
      "metadata": {
        "id": "fge-S5ZAYoAp"
      }
    },
    {
      "cell_type": "markdown",
      "source": [
        "A scatter plot was chosen because:\n",
        "\n",
        "Relationship Analysis: It effectively visualizes the relationship between the number of installs and the number of reviews.\n",
        "Log Scale for Better Insights: Since both installs and reviews span a wide range (from small apps to highly popular ones), the logarithmic scale helps in better visualization of trends.\n",
        "Identifying Outliers: Some apps may have high installs but low reviews, or vice versa, which can indicate user engagement levels, fake installs, or review manipulation.\n",
        "Business Strategy Insights: Apps with high installs but low engagement (reviews) might need strategies to improve user interaction and feedback"
      ],
      "metadata": {
        "id": "5dBItgRVYoAp"
      }
    },
    {
      "cell_type": "markdown",
      "source": [
        "##### 2. What is/are the insight(s) found from the chart?"
      ],
      "metadata": {
        "id": "85gYPyotYoAp"
      }
    },
    {
      "cell_type": "markdown",
      "source": [
        "Positive Correlation:\n",
        "\n",
        "Generally, apps with higher installs tend to have more reviews, which suggests that popular apps receive more user engagement.\n",
        "Outliers & Anomalies:\n",
        "\n",
        "Some apps may have high installs but very few reviews, which could indicate low user engagement, fake installs, or a poor review system.\n",
        "Conversely, some apps might have fewer installs but a high number of reviews, which could mean a highly engaged niche audience.\n",
        "User Engagement Trends:\n",
        "\n",
        "If an app has a low reviews-to-installs ratio, it might indicate that users are not actively leaving feedback, which could be a missed opportunity for improvement.\n",
        "Apps with a high review rate relative to installs might have a strong community or an incentive mechanism for reviews."
      ],
      "metadata": {
        "id": "4jstXR6OYoAp"
      }
    },
    {
      "cell_type": "markdown",
      "source": [
        "##### 3. Will the gained insights help creating a positive business impact?\n",
        "Are there any insights that lead to negative growth? Justify with specific reason."
      ],
      "metadata": {
        "id": "RoGjAbkUYoAp"
      }
    },
    {
      "cell_type": "markdown",
      "source": [
        "Yes, the insights from the Reviews vs. Installs Scatter Plot can drive positive business impact in several ways:\n",
        "\n",
        "Enhancing User Engagement Strategies\n",
        "\n",
        "If an app has many installs but few reviews, the company could encourage user feedback through incentives, in-app prompts, or better customer engagement strategies.\n",
        "Detecting Anomalies & Improving Trust\n",
        "\n",
        "Identifying apps with high installs but very low engagement can reveal potential fraudulent installs or lack of active users, prompting investigation or better engagement strategies.\n",
        "Focusing Marketing Efforts\n",
        "\n",
        "Apps that show high review engagement with fewer installs might have a strong, loyal user base, indicating a potential word-of-mouth marketing opportunity.\n",
        "Benchmarking Against Competitors\n",
        "\n",
        "By analyzing how successful apps drive reviews, companies can adopt best practices to boost their own engagement and reputation.\n",
        "\n",
        "Negative Growth:\n",
        " Yes, certain insights from the \"Reviews vs. Installs\" scatter plot could indicate potential negative growth areas:\n",
        "\n",
        "Low Review Engagement Despite High Installs\n",
        "\n",
        "If some apps have a high number of installs but a disproportionately low number of reviews, it might indicate that users are not engaging enough to leave feedback. This could suggest poor user experience, lack of unique features, or even fake installs.\n",
        "Negative Sentiment in Reviews\n",
        "\n",
        "If highly installed apps have mostly negative reviews, it signals potential dissatisfaction, which can lead to decreased retention and future uninstalls.\n",
        "Highly Reviewed But Low Installs\n",
        "\n",
        "Some apps may have many reviews but relatively low installs, which could mean they have a highly engaged niche audience but lack broader appeal. This could limit scalability.\n",
        "These insights can help businesses identify apps with poor engagement or quality issues and take corrective actions such as improving app features, user experience, or marketing strategies to prevent negative growth.\n"
      ],
      "metadata": {
        "id": "zfJ8IqMcYoAp"
      }
    },
    {
      "cell_type": "markdown",
      "source": [
        "#### Chart - 4"
      ],
      "metadata": {
        "id": "4Of9eVA-YrdM"
      }
    },
    {
      "cell_type": "code",
      "source": [
        "# Visualization 4: Price Distribution (Free vs Paid Apps)\n",
        "plt.figure(figsize=(8, 5))\n",
        "sb.boxplot(x=dff['Price'], showfliers=False)\n",
        "plt.title(\"Price Distribution of Apps\")\n",
        "plt.xlabel(\"Price (in USD)\")\n",
        "plt.show()\n"
      ],
      "metadata": {
        "id": "irlUoxc8YrdO"
      },
      "execution_count": null,
      "outputs": []
    },
    {
      "cell_type": "markdown",
      "source": [
        "##### 1. Why did you pick the specific chart?"
      ],
      "metadata": {
        "id": "iky9q4vBYrdO"
      }
    },
    {
      "cell_type": "markdown",
      "source": [
        "The boxplot was chosen for Price Distribution (Free vs Paid Apps) because:\n",
        "\n",
        "Handles Skewed Data Effectively\n",
        "\n",
        "App prices are highly skewed, with most being free or low-cost and a few being expensive. The boxplot helps visualize the spread, median, and potential outliers.\n",
        "Identifies Outliers\n",
        "\n",
        "Some apps may have significantly higher prices. By showing the interquartile range (IQR) and excluding extreme outliers (showfliers=False), we can focus on general pricing trends.\n",
        "Comparative Analysis of Free vs Paid Apps\n",
        "\n",
        "A boxplot effectively highlights price variation, allowing businesses to analyze pricing strategies, compare median prices, and determine reasonable pricing ranges.\n",
        "This visualization helps businesses optimize pricing strategies, ensuring competitive yet profitable pricing for paid apps."
      ],
      "metadata": {
        "id": "aJRCwT6DYrdO"
      }
    },
    {
      "cell_type": "markdown",
      "source": [
        "##### 2. What is/are the insight(s) found from the chart?"
      ],
      "metadata": {
        "id": "F6T5p64dYrdO"
      }
    },
    {
      "cell_type": "markdown",
      "source": [
        "Majority of Apps Are Free\n",
        "\n",
        "The boxplot likely shows a high concentration of apps at a price of $0, indicating that free apps dominate the Play Store.\n",
        "Paid Apps Have a Wide Price Range\n",
        "\n",
        "The spread of the boxplot suggests significant variation in paid app pricing, from low-cost apps to premium-priced applications.\n",
        "Presence of High-Priced Outliers\n",
        "\n",
        "If visible, some apps may have extremely high prices, which could indicate niche or premium offerings.\n",
        "Median Price of Paid Apps\n",
        "\n",
        "The median price (the line inside the box) provides an idea of the typical cost of paid apps."
      ],
      "metadata": {
        "id": "Xx8WAJvtYrdO"
      }
    },
    {
      "cell_type": "markdown",
      "source": [
        "##### 3. Will the gained insights help creating a positive business impact?\n",
        "Are there any insights that lead to negative growth? Justify with specific reason."
      ],
      "metadata": {
        "id": "y-Ehk30pYrdP"
      }
    },
    {
      "cell_type": "markdown",
      "source": [
        "Yes, the insights gained from the Price Distribution (Free vs Paid Apps) chart can positively impact business strategy in several ways:\n",
        "\n",
        "Positive Business Impact:\n",
        "Optimized Monetization Strategies:\n",
        "\n",
        "Since free apps dominate, businesses can explore revenue models such as in-app purchases, ads, or freemium models instead of relying solely on one-time purchases.\n",
        "Competitive Pricing for Paid Apps:\n",
        "\n",
        "Understanding the typical price range and outliers helps developers set competitive yet profitable pricing.\n",
        "Identifying High-Priced App Success:\n",
        "\n",
        "If high-priced apps perform well, businesses can analyze their features, user engagement, and ratings to develop premium offerings.\n",
        "Market Demand Assessment:\n",
        "\n",
        "If users prefer free apps, businesses may focus on subscription-based or ad-supported models to ensure steady revenue.\n",
        "Avoiding Negative Growth:\n",
        "If a paid app is priced too high without justifying its value, it may lead to low downloads and negative reviews.\n",
        "Understanding pricing trends prevents overpricing or underpricing products in the market.\n",
        "By leveraging these insights, businesses can refine their pricing models and maximize revenue opportunities in the Play Store ecosystem.\n",
        "\n",
        "\n",
        "Negative Growth Insights & Justification:\n",
        "High Dependency on Free Apps Could Reduce Revenue:\n",
        "\n",
        "If the majority of apps are free, businesses relying only on one-time purchases or paid downloads may struggle to generate sustainable revenue.\n",
        "Justification: A lack of proper monetization strategies (e.g., ads, in-app purchases) could result in low profitability.\n",
        "Limited Willingness to Pay for Apps:\n",
        "\n",
        "If most users prefer free apps and avoid paid apps, businesses offering premium apps without strong differentiation may fail to attract customers.\n",
        "Justification: Users are more likely to choose a free alternative unless a paid app offers exceptional value.\n",
        "Overpriced Apps May Lead to Poor Sales & Negative Reviews:\n",
        "\n",
        "If pricing is too high without offering unique features or benefits, users may perceive them as overpriced and unnecessary.\n",
        "Justification: This could result in low download rates, negative reviews, and reduced user trust.\n",
        "Potential Market Saturation for Free Apps:\n",
        "\n",
        "If free apps dominate, competition becomes intense, making user acquisition and retention more difficult.\n",
        "Justification: Without differentiation (e.g., superior UX, exclusive features), free apps may struggle to retain engagement and convert users."
      ],
      "metadata": {
        "id": "jLNxxz7MYrdP"
      }
    },
    {
      "cell_type": "markdown",
      "source": [
        "#### Chart - 5"
      ],
      "metadata": {
        "id": "bamQiAODYuh1"
      }
    },
    {
      "cell_type": "code",
      "source": [
        "# Visualization 5: Top 10 Most Installed Apps\n",
        "top_installs = dff[['App', 'Installs']].nlargest(10, 'Installs')\n",
        "plt.figure(figsize=(12, 6))\n",
        "sb.barplot(data=top_installs, x='Installs', y='App', palette='coolwarm',hue='App',legend=False)\n",
        "plt.title(\"Top 10 Most Installed Apps\")\n",
        "plt.xlabel(\"Installs\")\n",
        "plt.ylabel(\"App\")\n",
        "plt.show()"
      ],
      "metadata": {
        "id": "TIJwrbroYuh3"
      },
      "execution_count": null,
      "outputs": []
    },
    {
      "cell_type": "markdown",
      "source": [
        "##### 1. Why did you pick the specific chart?"
      ],
      "metadata": {
        "id": "QHF8YVU7Yuh3"
      }
    },
    {
      "cell_type": "markdown",
      "source": [
        "The bar chart was chosen because it effectively displays the top 10 most installed apps in a clear and visually intuitive way. It allows for quick comparisons between apps, making it easy to identify which ones have the highest number of installs. The horizontal orientation ensures that long app names remain readable while the color palette enhances differentiation between bars."
      ],
      "metadata": {
        "id": "dcxuIMRPYuh3"
      }
    },
    {
      "cell_type": "markdown",
      "source": [
        "##### 2. What is/are the insight(s) found from the chart?"
      ],
      "metadata": {
        "id": "GwzvFGzlYuh3"
      }
    },
    {
      "cell_type": "markdown",
      "source": [
        "Highly Popular Apps Dominate Installs – A small number of apps accumulate significantly higher downloads compared to others, indicating that a few apps capture most of the user base.\n",
        "Market Leaders Identified – The chart helps identify the most dominant apps in the Play Store, which could provide insights for benchmarking and competitive analysis.\n",
        "Category Trends – If the top installed apps belong to a particular category (e.g., social media, gaming, or productivity), this suggests strong user demand in those areas.\n",
        "Potential Monetization Strategy – Apps with high installs can focus on monetization through ads or premium features, leveraging their massive user base."
      ],
      "metadata": {
        "id": "uyqkiB8YYuh3"
      }
    },
    {
      "cell_type": "markdown",
      "source": [
        "##### 3. Will the gained insights help creating a positive business impact?\n",
        "Are there any insights that lead to negative growth? Justify with specific reason."
      ],
      "metadata": {
        "id": "qYpmQ266Yuh3"
      }
    },
    {
      "cell_type": "markdown",
      "source": [
        "\n",
        "\n",
        "Yes, the insights gained from the Top 10 Most Installed Apps chart can positively impact business strategies in several ways:\n",
        "\n",
        "1. Competitive Benchmarking\n",
        "Understanding which apps have the highest installs helps businesses analyze their competitors’ strengths, features, and marketing strategies.\n",
        "2. Market Demand Analysis\n",
        "If a particular app category dominates the top installs, businesses can prioritize app development or marketing efforts in that category to align with user demand.\n",
        "3. Monetization Strategies\n",
        "Highly installed free apps may indicate a potential for revenue generation through ads, while paid apps with high installs suggest that users are willing to pay for quality services.\n",
        "4. Marketing & User Acquisition\n",
        "Studying how these top apps acquire and retain users can help businesses refine their own acquisition strategies, whether through promotions, partnerships, or unique features.\n",
        "\n",
        "\n",
        "\n",
        "Yes, there are potential insights from the Top 10 Most Installed Apps chart that could indicate negative growth or challenges for certain businesses. Here are a few reasons:\n",
        "\n",
        "1. Market Saturation\n",
        "If the same few apps dominate installs consistently, it may suggest a lack of opportunities for new apps to break into the market. This makes it harder for startups or smaller developers to compete.\n",
        "2. High Competition for User Retention\n",
        "If top-installed apps also have high user engagement (reviews, ratings), newer apps may struggle to attract and retain users, leading to lower organic growth.\n",
        "3. Price Sensitivity & Monetization Challenges\n",
        "If the most installed apps are free, paid apps might struggle to gain traction. Businesses relying on upfront payments instead of ads or in-app purchases might face revenue challenges.\n",
        "4. Low Rating Despite High Installs\n",
        "If an app has millions of installs but poor ratings, it could indicate user dissatisfaction. High churn rates, negative reviews, or poor user experience can lead to long-term negative growth."
      ],
      "metadata": {
        "id": "_WtzZ_hCYuh4"
      }
    },
    {
      "cell_type": "markdown",
      "source": [
        "#### Chart - 6"
      ],
      "metadata": {
        "id": "OH-pJp9IphqM"
      }
    },
    {
      "cell_type": "code",
      "source": [
        "# Chart - 6 visualization code"
      ],
      "metadata": {
        "id": "kuRf4wtuphqN"
      },
      "execution_count": null,
      "outputs": []
    },
    {
      "cell_type": "markdown",
      "source": [
        "##### 1. Why did you pick the specific chart?"
      ],
      "metadata": {
        "id": "bbFf2-_FphqN"
      }
    },
    {
      "cell_type": "markdown",
      "source": [
        "Answer Here."
      ],
      "metadata": {
        "id": "loh7H2nzphqN"
      }
    },
    {
      "cell_type": "markdown",
      "source": [
        "##### 2. What is/are the insight(s) found from the chart?"
      ],
      "metadata": {
        "id": "_ouA3fa0phqN"
      }
    },
    {
      "cell_type": "markdown",
      "source": [
        "Answer Here"
      ],
      "metadata": {
        "id": "VECbqPI7phqN"
      }
    },
    {
      "cell_type": "markdown",
      "source": [
        "##### 3. Will the gained insights help creating a positive business impact?\n",
        "Are there any insights that lead to negative growth? Justify with specific reason."
      ],
      "metadata": {
        "id": "Seke61FWphqN"
      }
    },
    {
      "cell_type": "markdown",
      "source": [
        "Answer Here"
      ],
      "metadata": {
        "id": "DW4_bGpfphqN"
      }
    },
    {
      "cell_type": "markdown",
      "source": [
        "#### Chart - 7"
      ],
      "metadata": {
        "id": "PIIx-8_IphqN"
      }
    },
    {
      "cell_type": "code",
      "source": [
        "# Chart - 7 visualization code"
      ],
      "metadata": {
        "id": "lqAIGUfyphqO"
      },
      "execution_count": null,
      "outputs": []
    },
    {
      "cell_type": "markdown",
      "source": [
        "##### 1. Why did you pick the specific chart?"
      ],
      "metadata": {
        "id": "t27r6nlMphqO"
      }
    },
    {
      "cell_type": "markdown",
      "source": [
        "Answer Here."
      ],
      "metadata": {
        "id": "iv6ro40sphqO"
      }
    },
    {
      "cell_type": "markdown",
      "source": [
        "##### 2. What is/are the insight(s) found from the chart?"
      ],
      "metadata": {
        "id": "r2jJGEOYphqO"
      }
    },
    {
      "cell_type": "markdown",
      "source": [
        "Answer Here"
      ],
      "metadata": {
        "id": "Po6ZPi4hphqO"
      }
    },
    {
      "cell_type": "markdown",
      "source": [
        "##### 3. Will the gained insights help creating a positive business impact?\n",
        "Are there any insights that lead to negative growth? Justify with specific reason."
      ],
      "metadata": {
        "id": "b0JNsNcRphqO"
      }
    },
    {
      "cell_type": "markdown",
      "source": [
        "Answer Here"
      ],
      "metadata": {
        "id": "xvSq8iUTphqO"
      }
    },
    {
      "cell_type": "markdown",
      "source": [
        "#### Chart - 8"
      ],
      "metadata": {
        "id": "BZR9WyysphqO"
      }
    },
    {
      "cell_type": "code",
      "source": [
        "# Chart - 8 visualization code"
      ],
      "metadata": {
        "id": "TdPTWpAVphqO"
      },
      "execution_count": null,
      "outputs": []
    },
    {
      "cell_type": "markdown",
      "source": [
        "##### 1. Why did you pick the specific chart?"
      ],
      "metadata": {
        "id": "jj7wYXLtphqO"
      }
    },
    {
      "cell_type": "markdown",
      "source": [
        "Answer Here."
      ],
      "metadata": {
        "id": "Ob8u6rCTphqO"
      }
    },
    {
      "cell_type": "markdown",
      "source": [
        "##### 2. What is/are the insight(s) found from the chart?"
      ],
      "metadata": {
        "id": "eZrbJ2SmphqO"
      }
    },
    {
      "cell_type": "markdown",
      "source": [
        "Answer Here"
      ],
      "metadata": {
        "id": "mZtgC_hjphqO"
      }
    },
    {
      "cell_type": "markdown",
      "source": [
        "##### 3. Will the gained insights help creating a positive business impact?\n",
        "Are there any insights that lead to negative growth? Justify with specific reason."
      ],
      "metadata": {
        "id": "rFu4xreNphqO"
      }
    },
    {
      "cell_type": "markdown",
      "source": [
        "Answer Here"
      ],
      "metadata": {
        "id": "ey_0qi68phqO"
      }
    },
    {
      "cell_type": "markdown",
      "source": [
        "#### Chart - 9"
      ],
      "metadata": {
        "id": "YJ55k-q6phqO"
      }
    },
    {
      "cell_type": "code",
      "source": [
        "# Chart - 9 visualization code"
      ],
      "metadata": {
        "id": "B2aS4O1ophqO"
      },
      "execution_count": null,
      "outputs": []
    },
    {
      "cell_type": "markdown",
      "source": [
        "##### 1. Why did you pick the specific chart?"
      ],
      "metadata": {
        "id": "gCFgpxoyphqP"
      }
    },
    {
      "cell_type": "markdown",
      "source": [
        "Answer Here."
      ],
      "metadata": {
        "id": "TVxDimi2phqP"
      }
    },
    {
      "cell_type": "markdown",
      "source": [
        "##### 2. What is/are the insight(s) found from the chart?"
      ],
      "metadata": {
        "id": "OVtJsKN_phqQ"
      }
    },
    {
      "cell_type": "markdown",
      "source": [
        "Answer Here"
      ],
      "metadata": {
        "id": "ngGi97qjphqQ"
      }
    },
    {
      "cell_type": "markdown",
      "source": [
        "##### 3. Will the gained insights help creating a positive business impact?\n",
        "Are there any insights that lead to negative growth? Justify with specific reason."
      ],
      "metadata": {
        "id": "lssrdh5qphqQ"
      }
    },
    {
      "cell_type": "markdown",
      "source": [
        "Answer Here"
      ],
      "metadata": {
        "id": "tBpY5ekJphqQ"
      }
    },
    {
      "cell_type": "markdown",
      "source": [
        "#### Chart - 10"
      ],
      "metadata": {
        "id": "U2RJ9gkRphqQ"
      }
    },
    {
      "cell_type": "code",
      "source": [
        "# Chart - 10 visualization code"
      ],
      "metadata": {
        "id": "GM7a4YP4phqQ"
      },
      "execution_count": null,
      "outputs": []
    },
    {
      "cell_type": "markdown",
      "source": [
        "##### 1. Why did you pick the specific chart?"
      ],
      "metadata": {
        "id": "1M8mcRywphqQ"
      }
    },
    {
      "cell_type": "markdown",
      "source": [
        "Answer Here."
      ],
      "metadata": {
        "id": "8agQvks0phqQ"
      }
    },
    {
      "cell_type": "markdown",
      "source": [
        "##### 2. What is/are the insight(s) found from the chart?"
      ],
      "metadata": {
        "id": "tgIPom80phqQ"
      }
    },
    {
      "cell_type": "markdown",
      "source": [
        "Answer Here"
      ],
      "metadata": {
        "id": "Qp13pnNzphqQ"
      }
    },
    {
      "cell_type": "markdown",
      "source": [
        "##### 3. Will the gained insights help creating a positive business impact?\n",
        "Are there any insights that lead to negative growth? Justify with specific reason."
      ],
      "metadata": {
        "id": "JMzcOPDDphqR"
      }
    },
    {
      "cell_type": "markdown",
      "source": [
        "Answer Here"
      ],
      "metadata": {
        "id": "R4Ka1PC2phqR"
      }
    },
    {
      "cell_type": "markdown",
      "source": [
        "#### Chart - 11"
      ],
      "metadata": {
        "id": "x-EpHcCOp1ci"
      }
    },
    {
      "cell_type": "code",
      "source": [
        "# Chart - 11 visualization code"
      ],
      "metadata": {
        "id": "mAQTIvtqp1cj"
      },
      "execution_count": null,
      "outputs": []
    },
    {
      "cell_type": "markdown",
      "source": [
        "##### 1. Why did you pick the specific chart?"
      ],
      "metadata": {
        "id": "X_VqEhTip1ck"
      }
    },
    {
      "cell_type": "markdown",
      "source": [
        "Answer Here."
      ],
      "metadata": {
        "id": "-vsMzt_np1ck"
      }
    },
    {
      "cell_type": "markdown",
      "source": [
        "##### 2. What is/are the insight(s) found from the chart?"
      ],
      "metadata": {
        "id": "8zGJKyg5p1ck"
      }
    },
    {
      "cell_type": "markdown",
      "source": [
        "Answer Here"
      ],
      "metadata": {
        "id": "ZYdMsrqVp1ck"
      }
    },
    {
      "cell_type": "markdown",
      "source": [
        "##### 3. Will the gained insights help creating a positive business impact?\n",
        "Are there any insights that lead to negative growth? Justify with specific reason."
      ],
      "metadata": {
        "id": "PVzmfK_Ep1ck"
      }
    },
    {
      "cell_type": "markdown",
      "source": [
        "Answer Here"
      ],
      "metadata": {
        "id": "druuKYZpp1ck"
      }
    },
    {
      "cell_type": "markdown",
      "source": [
        "#### Chart - 12"
      ],
      "metadata": {
        "id": "n3dbpmDWp1ck"
      }
    },
    {
      "cell_type": "code",
      "source": [
        "# Chart - 12 visualization code"
      ],
      "metadata": {
        "id": "bwevp1tKp1ck"
      },
      "execution_count": null,
      "outputs": []
    },
    {
      "cell_type": "markdown",
      "source": [
        "##### 1. Why did you pick the specific chart?"
      ],
      "metadata": {
        "id": "ylSl6qgtp1ck"
      }
    },
    {
      "cell_type": "markdown",
      "source": [
        "Answer Here."
      ],
      "metadata": {
        "id": "m2xqNkiQp1ck"
      }
    },
    {
      "cell_type": "markdown",
      "source": [
        "##### 2. What is/are the insight(s) found from the chart?"
      ],
      "metadata": {
        "id": "ZWILFDl5p1ck"
      }
    },
    {
      "cell_type": "markdown",
      "source": [
        "Answer Here"
      ],
      "metadata": {
        "id": "x-lUsV2mp1ck"
      }
    },
    {
      "cell_type": "markdown",
      "source": [
        "##### 3. Will the gained insights help creating a positive business impact?\n",
        "Are there any insights that lead to negative growth? Justify with specific reason."
      ],
      "metadata": {
        "id": "M7G43BXep1ck"
      }
    },
    {
      "cell_type": "markdown",
      "source": [
        "Answer Here"
      ],
      "metadata": {
        "id": "5wwDJXsLp1cl"
      }
    },
    {
      "cell_type": "markdown",
      "source": [
        "#### Chart - 13"
      ],
      "metadata": {
        "id": "Ag9LCva-p1cl"
      }
    },
    {
      "cell_type": "code",
      "source": [
        "# Chart - 13 visualization code"
      ],
      "metadata": {
        "id": "EUfxeq9-p1cl"
      },
      "execution_count": null,
      "outputs": []
    },
    {
      "cell_type": "markdown",
      "source": [
        "##### 1. Why did you pick the specific chart?"
      ],
      "metadata": {
        "id": "E6MkPsBcp1cl"
      }
    },
    {
      "cell_type": "markdown",
      "source": [
        "Answer Here."
      ],
      "metadata": {
        "id": "V22bRsFWp1cl"
      }
    },
    {
      "cell_type": "markdown",
      "source": [
        "##### 2. What is/are the insight(s) found from the chart?"
      ],
      "metadata": {
        "id": "2cELzS2fp1cl"
      }
    },
    {
      "cell_type": "markdown",
      "source": [
        "Answer Here"
      ],
      "metadata": {
        "id": "ozQPc2_Ip1cl"
      }
    },
    {
      "cell_type": "markdown",
      "source": [
        "##### 3. Will the gained insights help creating a positive business impact?\n",
        "Are there any insights that lead to negative growth? Justify with specific reason."
      ],
      "metadata": {
        "id": "3MPXvC8up1cl"
      }
    },
    {
      "cell_type": "markdown",
      "source": [
        "Answer Here"
      ],
      "metadata": {
        "id": "GL8l1tdLp1cl"
      }
    },
    {
      "cell_type": "markdown",
      "source": [
        "#### Chart - 14 - Correlation Heatmap"
      ],
      "metadata": {
        "id": "NC_X3p0fY2L0"
      }
    },
    {
      "cell_type": "code",
      "source": [
        "# Correlation Heatmap visualization code"
      ],
      "metadata": {
        "id": "xyC9zolEZNRQ"
      },
      "execution_count": null,
      "outputs": []
    },
    {
      "cell_type": "markdown",
      "source": [
        "##### 1. Why did you pick the specific chart?"
      ],
      "metadata": {
        "id": "UV0SzAkaZNRQ"
      }
    },
    {
      "cell_type": "markdown",
      "source": [
        "Answer Here."
      ],
      "metadata": {
        "id": "DVPuT8LYZNRQ"
      }
    },
    {
      "cell_type": "markdown",
      "source": [
        "##### 2. What is/are the insight(s) found from the chart?"
      ],
      "metadata": {
        "id": "YPEH6qLeZNRQ"
      }
    },
    {
      "cell_type": "markdown",
      "source": [
        "Answer Here"
      ],
      "metadata": {
        "id": "bfSqtnDqZNRR"
      }
    },
    {
      "cell_type": "markdown",
      "source": [
        "#### Chart - 15 - Pair Plot"
      ],
      "metadata": {
        "id": "q29F0dvdveiT"
      }
    },
    {
      "cell_type": "code",
      "source": [
        "# Pair Plot visualization code"
      ],
      "metadata": {
        "id": "o58-TEIhveiU"
      },
      "execution_count": null,
      "outputs": []
    },
    {
      "cell_type": "markdown",
      "source": [
        "##### 1. Why did you pick the specific chart?"
      ],
      "metadata": {
        "id": "EXh0U9oCveiU"
      }
    },
    {
      "cell_type": "markdown",
      "source": [
        "Answer Here."
      ],
      "metadata": {
        "id": "eMmPjTByveiU"
      }
    },
    {
      "cell_type": "markdown",
      "source": [
        "##### 2. What is/are the insight(s) found from the chart?"
      ],
      "metadata": {
        "id": "22aHeOlLveiV"
      }
    },
    {
      "cell_type": "markdown",
      "source": [
        "Answer Here"
      ],
      "metadata": {
        "id": "uPQ8RGwHveiV"
      }
    },
    {
      "cell_type": "markdown",
      "source": [
        "## **5. Solution to Business Objective**"
      ],
      "metadata": {
        "id": "JcMwzZxoAimU"
      }
    },
    {
      "cell_type": "markdown",
      "source": [
        "#### What do you suggest the client to achieve Business Objective ?\n",
        "Explain Briefly."
      ],
      "metadata": {
        "id": "8G2x9gOozGDZ"
      }
    },
    {
      "cell_type": "markdown",
      "source": [
        "To help the client achieve their business objectives, here are some key recommendations based on the Play Store data analysis:\n",
        "\n",
        "1. Optimize App Pricing Strategy\n",
        "From the Price Distribution analysis, if most top apps are free, consider a freemium model (free basic version with in-app purchases or ads).\n",
        "If charging for an app, ensure it provides unique value that justifies the price.\n",
        "2. Improve App Ratings & User Satisfaction\n",
        "The Rating Distribution suggests how users perceive apps.\n",
        "Encourage positive reviews by addressing common complaints from user feedback.\n",
        "Offer customer support, bug fixes, and regular updates.\n",
        "3. Enhance User Engagement for More Reviews\n",
        "Reviews vs. Installs scatter plot shows that some highly installed apps have fewer reviews, indicating possible low engagement.\n",
        "Implement review prompts within the app to encourage feedback.\n",
        "Reward users for engagement (e.g., loyalty points, exclusive content).\n",
        "4. Identify High-Competition & Niche Markets\n",
        "The App Category Distribution highlights which categories are saturated vs. underrepresented.\n",
        "If entering a saturated category, focus on unique features or a niche audience.\n",
        "5. Leverage Market Trends from Most Installed Apps\n",
        "Analyze features, monetization models, and marketing strategies of Top 10 Most Installed Apps.\n",
        "Study their user base to replicate success factors.\n",
        "6. Monetization Through Advertisements & In-App Purchases\n",
        "If free apps dominate, implement ads, partnerships, or in-app purchases instead of one-time purchases.\n",
        "Use A/B testing to find the best ad placement without hurting user experience.\n",
        "7. Improve Retention & Reduce Uninstalls\n",
        "Monitor churn rates by tracking how soon users stop using the app.\n",
        "Offer personalized notifications to re-engage inactive users.\n",
        "Improve onboarding for a smoother first-time experience."
      ],
      "metadata": {
        "id": "pASKb0qOza21"
      }
    },
    {
      "cell_type": "markdown",
      "source": [
        "# **Conclusion**"
      ],
      "metadata": {
        "id": "gCX9965dhzqZ"
      }
    },
    {
      "cell_type": "markdown",
      "source": [
        "# Conclusion\n",
        "\n",
        "\"\"\"\n",
        "The Play Store data analysis provides valuable insights into app performance, user preferences, and market trends.\n",
        "\n",
        "Key Findings:\n",
        "1. **App Distribution** - Certain categories dominate the market, while others present opportunities for new entrants.\n",
        "2. **Rating Trends** - Most apps have moderate to high ratings, but some outliers indicate quality concerns.\n",
        "3. **Reviews vs. Installs** - High installs don't always translate to high engagement; prompting reviews may improve credibility.\n",
        "4. **Pricing Strategy** - Most apps are free, suggesting that monetization strategies should focus on ads and in-app purchases.\n",
        "5. **Top Apps Analysis** - The most installed apps provide insights into successful features and business models.\n",
        "\n",
        "Business Impact:\n",
        "- Developers can refine pricing models, focus on user engagement, and enhance app quality based on data-driven decisions.\n",
        "- Identifying niche categories and improving review engagement can help apps stand out in a competitive marketplace.\n",
        "\n",
        "Final Recommendation:\n",
        "- Improve customer feedback mechanisms to boost ratings.\n",
        "- Optimize monetization strategies based on pricing insights.\n",
        "- Invest in high-engagement app categories for potential growth.\n",
        "\n",
        "\"\"\"\n",
        "\n",
        "print(\"Conclusion: Analysis successfully completed, providing strategic business insights.\")\n"
      ],
      "metadata": {
        "id": "Fjb1IsQkh3yE"
      }
    },
    {
      "cell_type": "markdown",
      "source": [
        "### ***Hurrah! You have successfully completed your EDA Capstone Project !!!***"
      ],
      "metadata": {
        "id": "gIfDvo9L0UH2"
      }
    }
  ]
}